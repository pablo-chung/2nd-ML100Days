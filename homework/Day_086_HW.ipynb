{
 "cells": [
  {
   "cell_type": "markdown",
   "metadata": {},
   "source": [
    "## Work\n",
    "1. 試比較 save_best_only 與否的差異\n",
    "2. 請僅存入將 save_weights_only 設定為 True, 並嘗試 reset ipynb 並將模型與權重重新建回並預測 x_test"
   ]
  },
  {
   "cell_type": "code",
   "execution_count": 1,
   "metadata": {},
   "outputs": [
    {
     "name": "stderr",
     "output_type": "stream",
     "text": [
      "Using TensorFlow backend.\n"
     ]
    }
   ],
   "source": [
    "import os\n",
    "import keras\n",
    "\n",
    "# Disable GPU\n",
    "os.environ[\"CUDA_VISIBLE_DEVICES\"] = \"\"\n",
    "\n",
    "import tensorflow as tf\n",
    "#自動增長 GPU 記憶體用量的方式，讓程式需要多少記憶體就拿多少\n",
    "gpu_options = tf.GPUOptions(allow_growth=True)\n",
    "sess = tf.Session(config=tf.ConfigProto(gpu_options=gpu_options))"
   ]
  },
  {
   "cell_type": "code",
   "execution_count": 2,
   "metadata": {},
   "outputs": [],
   "source": [
    "train, test = keras.datasets.cifar10.load_data()"
   ]
  },
  {
   "cell_type": "code",
   "execution_count": 3,
   "metadata": {},
   "outputs": [],
   "source": [
    "## 資料前處理\n",
    "def preproc_x(x, flatten=True):\n",
    "    x = x / 255.\n",
    "    if flatten:\n",
    "        x = x.reshape((len(x), -1))\n",
    "    return x\n",
    "\n",
    "def preproc_y(y, num_classes=10):\n",
    "    if y.shape[-1] == 1:\n",
    "        y = keras.utils.to_categorical(y, num_classes)\n",
    "    return y    "
   ]
  },
  {
   "cell_type": "code",
   "execution_count": 4,
   "metadata": {},
   "outputs": [],
   "source": [
    "x_train, y_train = train\n",
    "x_test, y_test = test\n",
    "\n",
    "# Preproc the inputs\n",
    "x_train = preproc_x(x_train)\n",
    "x_test = preproc_x(x_test)\n",
    "\n",
    "# Preprc the outputs\n",
    "y_train = preproc_y(y_train)\n",
    "y_test = preproc_y(y_test)"
   ]
  },
  {
   "cell_type": "code",
   "execution_count": 5,
   "metadata": {},
   "outputs": [],
   "source": [
    "from keras.layers import BatchNormalization\n",
    "\n",
    "\"\"\"\n",
    "建立神經網路，並加入 BN layer\n",
    "\"\"\"\n",
    "def build_mlp(input_shape, output_units=10, num_neurons=[512, 256, 128]):\n",
    "    input_layer = keras.layers.Input(input_shape)\n",
    "    \n",
    "    for i, n_units in enumerate(num_neurons):\n",
    "        if i == 0:\n",
    "            x = keras.layers.Dense(units=n_units, \n",
    "                                   activation=\"relu\", \n",
    "                                   name=\"hidden_layer\"+str(i+1))(input_layer)\n",
    "            x = BatchNormalization()(x)\n",
    "        else:\n",
    "            x = keras.layers.Dense(units=n_units, \n",
    "                                   activation=\"relu\", \n",
    "                                   name=\"hidden_layer\"+str(i+1))(x)\n",
    "            x = BatchNormalization()(x)\n",
    "    \n",
    "    out = keras.layers.Dense(units=output_units, activation=\"softmax\", name=\"output\")(x)\n",
    "    \n",
    "    model = keras.models.Model(inputs=[input_layer], outputs=[out])\n",
    "    return model"
   ]
  },
  {
   "cell_type": "code",
   "execution_count": 6,
   "metadata": {},
   "outputs": [],
   "source": [
    "## 超參數設定\n",
    "LEARNING_RATE = 1e-3\n",
    "EPOCHS = 50\n",
    "BATCH_SIZE = 1024\n",
    "MOMENTUM = 0.95"
   ]
  },
  {
   "cell_type": "code",
   "execution_count": 9,
   "metadata": {},
   "outputs": [
    {
     "name": "stdout",
     "output_type": "stream",
     "text": [
      "_________________________________________________________________\n",
      "Layer (type)                 Output Shape              Param #   \n",
      "=================================================================\n",
      "input_2 (InputLayer)         (None, 3072)              0         \n",
      "_________________________________________________________________\n",
      "hidden_layer1 (Dense)        (None, 512)               1573376   \n",
      "_________________________________________________________________\n",
      "batch_normalization_4 (Batch (None, 512)               2048      \n",
      "_________________________________________________________________\n",
      "hidden_layer2 (Dense)        (None, 256)               131328    \n",
      "_________________________________________________________________\n",
      "batch_normalization_5 (Batch (None, 256)               1024      \n",
      "_________________________________________________________________\n",
      "hidden_layer3 (Dense)        (None, 128)               32896     \n",
      "_________________________________________________________________\n",
      "batch_normalization_6 (Batch (None, 128)               512       \n",
      "_________________________________________________________________\n",
      "output (Dense)               (None, 10)                1290      \n",
      "=================================================================\n",
      "Total params: 1,742,474\n",
      "Trainable params: 1,740,682\n",
      "Non-trainable params: 1,792\n",
      "_________________________________________________________________\n",
      "Train on 50000 samples, validate on 10000 samples\n",
      "Epoch 1/50\n",
      "50000/50000 [==============================] - 3s 53us/step - loss: 2.2271 - acc: 0.2668 - val_loss: 2.1139 - val_acc: 0.3106\n",
      "Epoch 2/50\n",
      "50000/50000 [==============================] - 2s 38us/step - loss: 1.7443 - acc: 0.3897 - val_loss: 1.8098 - val_acc: 0.3729\n",
      "Epoch 3/50\n",
      "50000/50000 [==============================] - 2s 38us/step - loss: 1.6191 - acc: 0.4289 - val_loss: 1.7041 - val_acc: 0.4095\n",
      "Epoch 4/50\n",
      "50000/50000 [==============================] - 2s 38us/step - loss: 1.5473 - acc: 0.4564 - val_loss: 1.6458 - val_acc: 0.4238\n",
      "Epoch 5/50\n",
      "50000/50000 [==============================] - 2s 37us/step - loss: 1.4922 - acc: 0.4774 - val_loss: 1.6039 - val_acc: 0.4353\n",
      "Epoch 6/50\n",
      "50000/50000 [==============================] - 2s 38us/step - loss: 1.4492 - acc: 0.4919 - val_loss: 1.5765 - val_acc: 0.4460\n",
      "Epoch 7/50\n",
      "50000/50000 [==============================] - 2s 38us/step - loss: 1.4100 - acc: 0.5077 - val_loss: 1.5446 - val_acc: 0.4564\n",
      "Epoch 8/50\n",
      "50000/50000 [==============================] - 2s 38us/step - loss: 1.3749 - acc: 0.5211 - val_loss: 1.5414 - val_acc: 0.4562\n",
      "Epoch 9/50\n",
      "50000/50000 [==============================] - 2s 38us/step - loss: 1.3424 - acc: 0.5335 - val_loss: 1.5249 - val_acc: 0.4589\n",
      "Epoch 10/50\n",
      "50000/50000 [==============================] - 2s 38us/step - loss: 1.3114 - acc: 0.5427 - val_loss: 1.5151 - val_acc: 0.4633\n",
      "Epoch 11/50\n",
      "50000/50000 [==============================] - 2s 38us/step - loss: 1.2850 - acc: 0.5536 - val_loss: 1.5089 - val_acc: 0.4703\n",
      "Epoch 12/50\n",
      "50000/50000 [==============================] - 2s 38us/step - loss: 1.2575 - acc: 0.5649 - val_loss: 1.5000 - val_acc: 0.4708\n",
      "Epoch 13/50\n",
      "50000/50000 [==============================] - 2s 38us/step - loss: 1.2311 - acc: 0.5757 - val_loss: 1.4866 - val_acc: 0.4717\n",
      "Epoch 14/50\n",
      "50000/50000 [==============================] - 2s 38us/step - loss: 1.2044 - acc: 0.5842 - val_loss: 1.4786 - val_acc: 0.4773\n",
      "Epoch 15/50\n",
      "50000/50000 [==============================] - 2s 38us/step - loss: 1.1817 - acc: 0.5919 - val_loss: 1.4711 - val_acc: 0.4855\n",
      "Epoch 16/50\n",
      "50000/50000 [==============================] - 2s 38us/step - loss: 1.1578 - acc: 0.6003 - val_loss: 1.4649 - val_acc: 0.4863\n",
      "Epoch 17/50\n",
      "50000/50000 [==============================] - 2s 38us/step - loss: 1.1345 - acc: 0.6093 - val_loss: 1.4715 - val_acc: 0.4819\n",
      "Epoch 18/50\n",
      "50000/50000 [==============================] - 2s 38us/step - loss: 1.1110 - acc: 0.6191 - val_loss: 1.4682 - val_acc: 0.4868\n",
      "Epoch 19/50\n",
      "50000/50000 [==============================] - 2s 38us/step - loss: 1.0902 - acc: 0.6281 - val_loss: 1.4655 - val_acc: 0.4835\n",
      "Epoch 20/50\n",
      "50000/50000 [==============================] - 2s 38us/step - loss: 1.0684 - acc: 0.6386 - val_loss: 1.4700 - val_acc: 0.4831\n",
      "Epoch 21/50\n",
      "50000/50000 [==============================] - 2s 39us/step - loss: 1.0474 - acc: 0.6436 - val_loss: 1.4584 - val_acc: 0.4923\n",
      "Epoch 22/50\n",
      "50000/50000 [==============================] - 2s 39us/step - loss: 1.0247 - acc: 0.6532 - val_loss: 1.4708 - val_acc: 0.4855\n",
      "Epoch 23/50\n",
      "50000/50000 [==============================] - 2s 39us/step - loss: 1.0040 - acc: 0.6619 - val_loss: 1.4778 - val_acc: 0.4826\n",
      "Epoch 24/50\n",
      "50000/50000 [==============================] - 2s 37us/step - loss: 0.9827 - acc: 0.6693 - val_loss: 1.4719 - val_acc: 0.4887\n",
      "Epoch 25/50\n",
      "50000/50000 [==============================] - 2s 38us/step - loss: 0.9621 - acc: 0.6779 - val_loss: 1.4701 - val_acc: 0.4942\n",
      "Epoch 26/50\n",
      "50000/50000 [==============================] - 2s 37us/step - loss: 0.9430 - acc: 0.6854 - val_loss: 1.4841 - val_acc: 0.4912\n",
      "Epoch 27/50\n",
      "50000/50000 [==============================] - 2s 38us/step - loss: 0.9221 - acc: 0.6913 - val_loss: 1.4868 - val_acc: 0.4869\n",
      "Epoch 28/50\n",
      "50000/50000 [==============================] - 2s 38us/step - loss: 0.9011 - acc: 0.7028 - val_loss: 1.4920 - val_acc: 0.4877\n",
      "Epoch 29/50\n",
      "50000/50000 [==============================] - 2s 37us/step - loss: 0.8816 - acc: 0.7081 - val_loss: 1.4918 - val_acc: 0.4918\n",
      "Epoch 30/50\n",
      "50000/50000 [==============================] - 2s 38us/step - loss: 0.8620 - acc: 0.7174 - val_loss: 1.4911 - val_acc: 0.4928\n",
      "Epoch 31/50\n",
      "50000/50000 [==============================] - 2s 38us/step - loss: 0.8394 - acc: 0.7259 - val_loss: 1.4937 - val_acc: 0.4936\n",
      "Epoch 32/50\n",
      "50000/50000 [==============================] - 2s 38us/step - loss: 0.8219 - acc: 0.7322 - val_loss: 1.4891 - val_acc: 0.4973\n",
      "Epoch 33/50\n",
      "50000/50000 [==============================] - 2s 38us/step - loss: 0.8016 - acc: 0.7381 - val_loss: 1.4935 - val_acc: 0.4939\n",
      "Epoch 34/50\n",
      "50000/50000 [==============================] - 2s 38us/step - loss: 0.7831 - acc: 0.7476 - val_loss: 1.5195 - val_acc: 0.4854\n",
      "Epoch 35/50\n",
      "50000/50000 [==============================] - 2s 37us/step - loss: 0.7627 - acc: 0.7561 - val_loss: 1.5314 - val_acc: 0.4880\n",
      "Epoch 36/50\n",
      "50000/50000 [==============================] - 2s 38us/step - loss: 0.7444 - acc: 0.7649 - val_loss: 1.5279 - val_acc: 0.4903\n",
      "Epoch 37/50\n",
      "50000/50000 [==============================] - 2s 37us/step - loss: 0.7250 - acc: 0.7696 - val_loss: 1.5287 - val_acc: 0.4875\n",
      "Epoch 38/50\n",
      "50000/50000 [==============================] - 2s 38us/step - loss: 0.7060 - acc: 0.7799 - val_loss: 1.5448 - val_acc: 0.4897\n",
      "Epoch 39/50\n",
      "50000/50000 [==============================] - 2s 38us/step - loss: 0.6887 - acc: 0.7853 - val_loss: 1.5510 - val_acc: 0.4952\n",
      "Epoch 40/50\n",
      "50000/50000 [==============================] - 2s 38us/step - loss: 0.6703 - acc: 0.7933 - val_loss: 1.5570 - val_acc: 0.4930\n",
      "Epoch 41/50\n",
      "50000/50000 [==============================] - 2s 38us/step - loss: 0.6500 - acc: 0.8000 - val_loss: 1.5777 - val_acc: 0.4855\n",
      "Epoch 42/50\n",
      "50000/50000 [==============================] - 2s 38us/step - loss: 0.6354 - acc: 0.8074 - val_loss: 1.5850 - val_acc: 0.4884\n",
      "Epoch 43/50\n",
      "50000/50000 [==============================] - 2s 38us/step - loss: 0.6171 - acc: 0.8150 - val_loss: 1.5907 - val_acc: 0.4878\n",
      "Epoch 44/50\n",
      "50000/50000 [==============================] - 2s 38us/step - loss: 0.5967 - acc: 0.8228 - val_loss: 1.5954 - val_acc: 0.4860\n",
      "Epoch 45/50\n",
      "50000/50000 [==============================] - 2s 38us/step - loss: 0.5793 - acc: 0.8279 - val_loss: 1.6117 - val_acc: 0.4886\n",
      "Epoch 46/50\n",
      "50000/50000 [==============================] - 2s 38us/step - loss: 0.5633 - acc: 0.8352 - val_loss: 1.6093 - val_acc: 0.4892\n",
      "Epoch 47/50\n",
      "50000/50000 [==============================] - 2s 38us/step - loss: 0.5454 - acc: 0.8424 - val_loss: 1.6439 - val_acc: 0.4860\n",
      "Epoch 48/50\n",
      "50000/50000 [==============================] - 2s 38us/step - loss: 0.5273 - acc: 0.8506 - val_loss: 1.6666 - val_acc: 0.4822\n",
      "Epoch 49/50\n",
      "50000/50000 [==============================] - 2s 38us/step - loss: 0.5107 - acc: 0.8565 - val_loss: 1.6633 - val_acc: 0.4877\n"
     ]
    },
    {
     "name": "stdout",
     "output_type": "stream",
     "text": [
      "Epoch 50/50\n",
      "50000/50000 [==============================] - 2s 38us/step - loss: 0.4958 - acc: 0.8622 - val_loss: 1.6683 - val_acc: 0.4854\n"
     ]
    },
    {
     "ename": "ValueError",
     "evalue": "Cannot create group in read only mode.",
     "output_type": "error",
     "traceback": [
      "\u001b[1;31m---------------------------------------------------------------------------\u001b[0m",
      "\u001b[1;31mValueError\u001b[0m                                Traceback (most recent call last)",
      "\u001b[1;32m<ipython-input-9-e856915d5edd>\u001b[0m in \u001b[0;36m<module>\u001b[1;34m\u001b[0m\n\u001b[0;32m     30\u001b[0m \u001b[1;33m\u001b[0m\u001b[0m\n\u001b[0;32m     31\u001b[0m \u001b[1;31m# Load back\u001b[0m\u001b[1;33m\u001b[0m\u001b[1;33m\u001b[0m\u001b[1;33m\u001b[0m\u001b[0m\n\u001b[1;32m---> 32\u001b[1;33m \u001b[0mmodel\u001b[0m \u001b[1;33m=\u001b[0m \u001b[0mkeras\u001b[0m\u001b[1;33m.\u001b[0m\u001b[0mmodels\u001b[0m\u001b[1;33m.\u001b[0m\u001b[0mload_model\u001b[0m\u001b[1;33m(\u001b[0m\u001b[1;34m\"./tmpHW.h5\"\u001b[0m\u001b[1;33m)\u001b[0m\u001b[1;33m\u001b[0m\u001b[1;33m\u001b[0m\u001b[0m\n\u001b[0m\u001b[0;32m     33\u001b[0m \u001b[0mloss_loadback\u001b[0m\u001b[1;33m,\u001b[0m \u001b[0macc_loadback\u001b[0m \u001b[1;33m=\u001b[0m \u001b[0mmodel\u001b[0m\u001b[1;33m.\u001b[0m\u001b[0mevaluate\u001b[0m\u001b[1;33m(\u001b[0m\u001b[0mx_test\u001b[0m\u001b[1;33m,\u001b[0m \u001b[0my_test\u001b[0m\u001b[1;33m)\u001b[0m\u001b[1;33m\u001b[0m\u001b[1;33m\u001b[0m\u001b[0m\n",
      "\u001b[1;32m~\\Anaconda3\\lib\\site-packages\\keras\\engine\\saving.py\u001b[0m in \u001b[0;36mload_model\u001b[1;34m(filepath, custom_objects, compile)\u001b[0m\n\u001b[0;32m    417\u001b[0m     \u001b[0mf\u001b[0m \u001b[1;33m=\u001b[0m \u001b[0mh5dict\u001b[0m\u001b[1;33m(\u001b[0m\u001b[0mfilepath\u001b[0m\u001b[1;33m,\u001b[0m \u001b[1;34m'r'\u001b[0m\u001b[1;33m)\u001b[0m\u001b[1;33m\u001b[0m\u001b[1;33m\u001b[0m\u001b[0m\n\u001b[0;32m    418\u001b[0m     \u001b[1;32mtry\u001b[0m\u001b[1;33m:\u001b[0m\u001b[1;33m\u001b[0m\u001b[1;33m\u001b[0m\u001b[0m\n\u001b[1;32m--> 419\u001b[1;33m         \u001b[0mmodel\u001b[0m \u001b[1;33m=\u001b[0m \u001b[0m_deserialize_model\u001b[0m\u001b[1;33m(\u001b[0m\u001b[0mf\u001b[0m\u001b[1;33m,\u001b[0m \u001b[0mcustom_objects\u001b[0m\u001b[1;33m,\u001b[0m \u001b[0mcompile\u001b[0m\u001b[1;33m)\u001b[0m\u001b[1;33m\u001b[0m\u001b[1;33m\u001b[0m\u001b[0m\n\u001b[0m\u001b[0;32m    420\u001b[0m     \u001b[1;32mfinally\u001b[0m\u001b[1;33m:\u001b[0m\u001b[1;33m\u001b[0m\u001b[1;33m\u001b[0m\u001b[0m\n\u001b[0;32m    421\u001b[0m         \u001b[1;32mif\u001b[0m \u001b[0mopened_new_file\u001b[0m\u001b[1;33m:\u001b[0m\u001b[1;33m\u001b[0m\u001b[1;33m\u001b[0m\u001b[0m\n",
      "\u001b[1;32m~\\Anaconda3\\lib\\site-packages\\keras\\engine\\saving.py\u001b[0m in \u001b[0;36m_deserialize_model\u001b[1;34m(f, custom_objects, compile)\u001b[0m\n\u001b[0;32m    219\u001b[0m         \u001b[1;32mreturn\u001b[0m \u001b[0mobj\u001b[0m\u001b[1;33m\u001b[0m\u001b[1;33m\u001b[0m\u001b[0m\n\u001b[0;32m    220\u001b[0m \u001b[1;33m\u001b[0m\u001b[0m\n\u001b[1;32m--> 221\u001b[1;33m     \u001b[0mmodel_config\u001b[0m \u001b[1;33m=\u001b[0m \u001b[0mf\u001b[0m\u001b[1;33m[\u001b[0m\u001b[1;34m'model_config'\u001b[0m\u001b[1;33m]\u001b[0m\u001b[1;33m\u001b[0m\u001b[1;33m\u001b[0m\u001b[0m\n\u001b[0m\u001b[0;32m    222\u001b[0m     \u001b[1;32mif\u001b[0m \u001b[0mmodel_config\u001b[0m \u001b[1;32mis\u001b[0m \u001b[1;32mNone\u001b[0m\u001b[1;33m:\u001b[0m\u001b[1;33m\u001b[0m\u001b[1;33m\u001b[0m\u001b[0m\n\u001b[0;32m    223\u001b[0m         \u001b[1;32mraise\u001b[0m \u001b[0mValueError\u001b[0m\u001b[1;33m(\u001b[0m\u001b[1;34m'No model found in config.'\u001b[0m\u001b[1;33m)\u001b[0m\u001b[1;33m\u001b[0m\u001b[1;33m\u001b[0m\u001b[0m\n",
      "\u001b[1;32m~\\Anaconda3\\lib\\site-packages\\keras\\utils\\io_utils.py\u001b[0m in \u001b[0;36m__getitem__\u001b[1;34m(self, attr)\u001b[0m\n\u001b[0;32m    300\u001b[0m             \u001b[1;32melse\u001b[0m\u001b[1;33m:\u001b[0m\u001b[1;33m\u001b[0m\u001b[1;33m\u001b[0m\u001b[0m\n\u001b[0;32m    301\u001b[0m                 \u001b[1;32mif\u001b[0m \u001b[0mself\u001b[0m\u001b[1;33m.\u001b[0m\u001b[0mread_only\u001b[0m\u001b[1;33m:\u001b[0m\u001b[1;33m\u001b[0m\u001b[1;33m\u001b[0m\u001b[0m\n\u001b[1;32m--> 302\u001b[1;33m                     \u001b[1;32mraise\u001b[0m \u001b[0mValueError\u001b[0m\u001b[1;33m(\u001b[0m\u001b[1;34m'Cannot create group in read only mode.'\u001b[0m\u001b[1;33m)\u001b[0m\u001b[1;33m\u001b[0m\u001b[1;33m\u001b[0m\u001b[0m\n\u001b[0m\u001b[0;32m    303\u001b[0m                 \u001b[0mval\u001b[0m \u001b[1;33m=\u001b[0m \u001b[0mH5Dict\u001b[0m\u001b[1;33m(\u001b[0m\u001b[0mself\u001b[0m\u001b[1;33m.\u001b[0m\u001b[0mdata\u001b[0m\u001b[1;33m.\u001b[0m\u001b[0mcreate_group\u001b[0m\u001b[1;33m(\u001b[0m\u001b[0mattr\u001b[0m\u001b[1;33m)\u001b[0m\u001b[1;33m)\u001b[0m\u001b[1;33m\u001b[0m\u001b[1;33m\u001b[0m\u001b[0m\n\u001b[0;32m    304\u001b[0m         \u001b[1;32mreturn\u001b[0m \u001b[0mval\u001b[0m\u001b[1;33m\u001b[0m\u001b[1;33m\u001b[0m\u001b[0m\n",
      "\u001b[1;31mValueError\u001b[0m: Cannot create group in read only mode."
     ]
    }
   ],
   "source": [
    "\"\"\"\n",
    "# 載入 Callbacks, 並將監控目標設為 validation loss, 且只存最佳參數時的模型\n",
    "\"\"\"\n",
    "from keras.callbacks import ModelCheckpoint\n",
    "\n",
    "model_ckpt = ModelCheckpoint(filepath=\"./tmpHW.h5\", \n",
    "                             monitor=\"val_loss\", \n",
    "                             save_best_only=False,\n",
    "                             save_weights_only=True\n",
    "                            )\n",
    "\n",
    "model = build_mlp(input_shape=x_train.shape[1:])\n",
    "model.summary()\n",
    "optimizer = keras.optimizers.SGD(lr=LEARNING_RATE, nesterov=True, momentum=MOMENTUM)\n",
    "model.compile(loss=\"categorical_crossentropy\", metrics=[\"accuracy\"], optimizer=optimizer)\n",
    "\n",
    "model.fit(x_train, y_train, \n",
    "          epochs=EPOCHS, \n",
    "          batch_size=BATCH_SIZE, \n",
    "          validation_data=(x_test, y_test), \n",
    "          shuffle=True,\n",
    "          callbacks=[model_ckpt]\n",
    "         )\n",
    "\n",
    "# Collect results\n",
    "train_loss = model.history.history[\"loss\"]\n",
    "valid_loss = model.history.history[\"val_loss\"]\n",
    "train_acc = model.history.history[\"acc\"]\n",
    "valid_acc = model.history.history[\"val_acc\"]\n",
    "\n",
    "# Load back\n",
    "model = keras.models.load_model(\"./tmpHW.h5\")\n",
    "loss_loadback, acc_loadback = model.evaluate(x_test, y_test)"
   ]
  },
  {
   "cell_type": "code",
   "execution_count": 10,
   "metadata": {
    "scrolled": true
   },
   "outputs": [
    {
     "data": {
      "image/png": "[encoded data removed]",
      "text/plain": [
       "<Figure size 432x288 with 1 Axes>"
      ]
     },
     "metadata": {
      "needs_background": "light"
     },
     "output_type": "display_data"
    },
    {
     "data": {
      "image/png": "[encoded data removed]",
      "text/plain": [
       "<Figure size 432x288 with 1 Axes>"
      ]
     },
     "metadata": {
      "needs_background": "light"
     },
     "output_type": "display_data"
    }
   ],
   "source": [
    "import matplotlib.pyplot as plt\n",
    "%matplotlib inline\n",
    "\n",
    "plt.plot(range(len(train_loss)), train_loss, label=\"train loss\")\n",
    "plt.plot(range(len(valid_loss)), valid_loss, label=\"valid loss\")\n",
    "plt.hlines(y=loss_loadback, xmin=0, xmax=len(train_loss), colors='r', linestyles='--')\n",
    "plt.legend()\n",
    "plt.title(\"Loss\")\n",
    "plt.show()\n",
    "\n",
    "plt.plot(range(len(train_acc)), train_acc, label=\"train accuracy\")\n",
    "plt.plot(range(len(valid_acc)), valid_acc, label=\"valid accuracy\")\n",
    "plt.hlines(y=acc_loadback, xmin=0, xmax=len(train_loss), colors='r', linestyles='--')\n",
    "plt.legend()\n",
    "plt.title(\"Accuracy\")\n",
    "plt.show()"
   ]
  },
  {
   "cell_type": "code",
   "execution_count": null,
   "metadata": {},
   "outputs": [],
   "source": []
  }
 ],
 "metadata": {
  "kernelspec": {
   "display_name": "Python 3",
   "language": "python",
   "name": "python3"
  },
  "language_info": {
   "codemirror_mode": {
    "name": "ipython",
    "version": 3
   },
   "file_extension": ".py",
   "mimetype": "text/x-python",
   "name": "python",
   "nbconvert_exporter": "python",
   "pygments_lexer": "ipython3",
   "version": "3.7.3"
  }
 },
 "nbformat": 4,
 "nbformat_minor": 2
}
