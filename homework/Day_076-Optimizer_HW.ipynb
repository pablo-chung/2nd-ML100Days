{
 "cells": [
  {
   "cell_type": "markdown",
   "metadata": {},
   "source": [
    "\n",
    "# 作業: \n",
    "    \n",
    "    (1)以, Adam, 為例, 調整 batch_size, epoch , 觀察accurancy, loss 的變化\n",
    "    \n",
    "    (2)以同一模型, 分別驗證 SGD, Adam, Rmsprop 的 accurancy"
   ]
  },
  {
   "cell_type": "code",
   "execution_count": 1,
   "metadata": {},
   "outputs": [
    {
     "name": "stderr",
     "output_type": "stream",
     "text": [
      "Using TensorFlow backend.\n"
     ]
    }
   ],
   "source": [
    "import keras\n",
    "#from keras.datasets import cifar10\n",
    "from keras.datasets import mnist \n",
    "from keras.preprocessing.image import ImageDataGenerator\n",
    "from keras.models import Sequential, load_model\n",
    "from keras.layers import Dense, Dropout, Activation, Flatten\n",
    "from keras.layers import Conv2D, MaxPooling2D\n",
    "from keras import optimizers\n",
    "from keras.callbacks import EarlyStopping, ModelCheckpoint\n",
    "import numpy \n"
   ]
  },
  {
   "cell_type": "code",
   "execution_count": 2,
   "metadata": {},
   "outputs": [
    {
     "name": "stderr",
     "output_type": "stream",
     "text": [
      "WARNING: Logging before flag parsing goes to stderr.\n",
      "W0716 20:10:04.738963 11820 deprecation_wrapper.py:119] From C:\\Users\\pablo\\Anaconda3\\lib\\site-packages\\keras\\backend\\tensorflow_backend.py:74: The name tf.get_default_graph is deprecated. Please use tf.compat.v1.get_default_graph instead.\n",
      "\n",
      "W0716 20:10:04.754549 11820 deprecation_wrapper.py:119] From C:\\Users\\pablo\\Anaconda3\\lib\\site-packages\\keras\\backend\\tensorflow_backend.py:517: The name tf.placeholder is deprecated. Please use tf.compat.v1.placeholder instead.\n",
      "\n",
      "W0716 20:10:04.754549 11820 deprecation_wrapper.py:119] From C:\\Users\\pablo\\Anaconda3\\lib\\site-packages\\keras\\backend\\tensorflow_backend.py:4138: The name tf.random_uniform is deprecated. Please use tf.random.uniform instead.\n",
      "\n"
     ]
    }
   ],
   "source": [
    "#    第一步：選擇模型, 順序模型是多個網絡層的線性堆疊\n",
    " \n",
    "model = Sequential()\n",
    "\n",
    "#   第二步：構建網絡層\n",
    " \n",
    "model.add(Dense( 500,input_shape=(784,))) # 輸入層，28*28=784   \n",
    "model.add(Activation('relu')) # 激活函數是relu   \n",
    "\n",
    "model.add(Dense( 500)) # 隱藏層節點500個   \n",
    "model.add(Activation('relu'))  \n",
    "\n",
    "model.add(Dense( 500)) # 隱藏層節點500個   \n",
    "model.add(Activation('relu'))  \n",
    "\n",
    "model.add(Dense( 500)) # 隱藏層節點500個   \n",
    "model.add(Activation('relu'))  \n",
    "\n",
    "model.add(Dense( 10)) # 輸出結果是10個類別，所以維度是10   \n",
    "model.add(Activation('softmax')) # 最後一層用softmax作為激活函數"
   ]
  },
  {
   "cell_type": "code",
   "execution_count": 3,
   "metadata": {},
   "outputs": [
    {
     "name": "stdout",
     "output_type": "stream",
     "text": [
      "Total Parameters：1149010\n"
     ]
    }
   ],
   "source": [
    "# 模型建立完成後，統計參數總量\n",
    "print(\"Total Parameters：%d\" % model.count_params())"
   ]
  },
  {
   "cell_type": "code",
   "execution_count": 4,
   "metadata": {},
   "outputs": [
    {
     "name": "stdout",
     "output_type": "stream",
     "text": [
      "_________________________________________________________________\n",
      "Layer (type)                 Output Shape              Param #   \n",
      "=================================================================\n",
      "dense_1 (Dense)              (None, 500)               392500    \n",
      "_________________________________________________________________\n",
      "activation_1 (Activation)    (None, 500)               0         \n",
      "_________________________________________________________________\n",
      "dense_2 (Dense)              (None, 500)               250500    \n",
      "_________________________________________________________________\n",
      "activation_2 (Activation)    (None, 500)               0         \n",
      "_________________________________________________________________\n",
      "dense_3 (Dense)              (None, 500)               250500    \n",
      "_________________________________________________________________\n",
      "activation_3 (Activation)    (None, 500)               0         \n",
      "_________________________________________________________________\n",
      "dense_4 (Dense)              (None, 500)               250500    \n",
      "_________________________________________________________________\n",
      "activation_4 (Activation)    (None, 500)               0         \n",
      "_________________________________________________________________\n",
      "dense_5 (Dense)              (None, 10)                5010      \n",
      "_________________________________________________________________\n",
      "activation_5 (Activation)    (None, 10)                0         \n",
      "=================================================================\n",
      "Total params: 1,149,010\n",
      "Trainable params: 1,149,010\n",
      "Non-trainable params: 0\n",
      "_________________________________________________________________\n"
     ]
    }
   ],
   "source": [
    "# 輸出模型摘要資訊\n",
    "model.summary()"
   ]
  },
  {
   "cell_type": "code",
   "execution_count": 5,
   "metadata": {},
   "outputs": [
    {
     "data": {
      "text/plain": [
       "'\\nRMSprop- Arguments\\nlr: float >= 0. Learning rate.\\nrho: float >= 0.\\nepsilon: float >= 0. Fuzz factor. If None, defaults to K.epsilon().\\ndecay: float >= 0. Learning rate decay over each update.\\n'"
      ]
     },
     "execution_count": 5,
     "metadata": {},
     "output_type": "execute_result"
    }
   ],
   "source": [
    " '''\n",
    " SGD(隨機梯度下降) - Arguments\n",
    "lr: float >= 0. Learning rate.\n",
    "momentum: float >= 0. Parameter that accelerates SGD in the relevant direction and dampens oscillations.\n",
    "decay: float >= 0. Learning rate decay over each update.\n",
    "nesterov: boolean. Whether to apply Nesterov momentum.\n",
    "'''\n",
    "\n",
    "'''\n",
    "RMSprop- Arguments\n",
    "lr: float >= 0. Learning rate.\n",
    "rho: float >= 0.\n",
    "epsilon: float >= 0. Fuzz factor. If None, defaults to K.epsilon().\n",
    "decay: float >= 0. Learning rate decay over each update.\n",
    "'''\n"
   ]
  },
  {
   "cell_type": "markdown",
   "metadata": {},
   "source": [
    "## Adam"
   ]
  },
  {
   "cell_type": "code",
   "execution_count": 17,
   "metadata": {},
   "outputs": [
    {
     "name": "stdout",
     "output_type": "stream",
     "text": [
      "Train on 42000 samples, validate on 18000 samples\n",
      "Epoch 1/10\n",
      " - 2s - loss: 0.1803 - acc: 0.0986 - val_loss: 0.1802 - val_acc: 0.0989\n",
      "Epoch 2/10\n",
      " - 2s - loss: 0.1803 - acc: 0.0986 - val_loss: 0.1802 - val_acc: 0.0989\n",
      "Epoch 3/10\n",
      " - 2s - loss: 0.1803 - acc: 0.0986 - val_loss: 0.1802 - val_acc: 0.0989\n",
      "Epoch 4/10\n",
      " - 2s - loss: 0.1803 - acc: 0.0986 - val_loss: 0.1802 - val_acc: 0.0989\n",
      "Epoch 5/10\n",
      " - 2s - loss: 0.1803 - acc: 0.0986 - val_loss: 0.1802 - val_acc: 0.0989\n",
      "Epoch 6/10\n",
      " - 2s - loss: 0.1803 - acc: 0.0986 - val_loss: 0.1802 - val_acc: 0.0989\n",
      "Epoch 7/10\n",
      " - 2s - loss: 0.1803 - acc: 0.0986 - val_loss: 0.1802 - val_acc: 0.0989\n",
      "Epoch 8/10\n",
      " - 2s - loss: 0.1803 - acc: 0.0986 - val_loss: 0.1802 - val_acc: 0.0989\n",
      "Epoch 9/10\n",
      " - 2s - loss: 0.1803 - acc: 0.0986 - val_loss: 0.1802 - val_acc: 0.0989\n",
      "Epoch 10/10\n",
      " - 2s - loss: 0.1803 - acc: 0.0986 - val_loss: 0.1802 - val_acc: 0.0989\n",
      " test set \n",
      "\n",
      " The test loss is %f  [0.1804000034928322, 0.09799999997019768]\n",
      "\n",
      " The accuracy of the model is 0.098000 \n"
     ]
    },
    {
     "data": {
      "image/png": "[encoded data removed]",
      "text/plain": [
       "<Figure size 432x288 with 1 Axes>"
      ]
     },
     "metadata": {
      "needs_background": "light"
     },
     "output_type": "display_data"
    },
    {
     "data": {
      "image/png": "[encoded data removed]",
      "text/plain": [
       "<Figure size 432x288 with 1 Axes>"
      ]
     },
     "metadata": {
      "needs_background": "light"
     },
     "output_type": "display_data"
    }
   ],
   "source": [
    "# 第三步：編譯,\n",
    "opt = optimizers.Adam(lr=0.001, epsilon=None, decay=0.0)\n",
    "#opt = optimizers. Adam(lr=0.01, epsilon=None, decay=0.01) \n",
    "\n",
    "model.compile(optimizer = opt , loss = 'mean_squared_error', metrics = ['accuracy'])\n",
    "\n",
    "#  第四步：資料分割\n",
    "# 使用Keras自帶的mnist工具讀取數據（第一次需要聯網）\n",
    "(X_train, y_train), (X_test, y_test) = mnist.load_data() \n",
    "\n",
    "# 由於mist的輸入數據維度是(num, 28 , 28)，這裡需要把後面的維度直接拼起來變成784維   \n",
    "X_train = X_train.reshape(X_train.shape[0], X_train.shape[1] * X_train.shape[2 ])\n",
    "X_test = X_test.reshape(X_test.shape[0], X_test.shape[1] * X_test.shape[2 ])  \n",
    "Y_train = (numpy.arange(10) == y_train[:, None]).astype(int)\n",
    "Y_test = (numpy.arange(10) == y_test[:, None]).astype(int)\n",
    "\n",
    "#宣告並設定\n",
    "batch_size = 128\n",
    "epochs = 10\n",
    "\n",
    "# 第五步：訓練, 修正 model 參數\n",
    "#Blas GEMM launch failed , 避免動態分配GPU / CPU, 出現問題\n",
    "import tensorflow as tf\n",
    "\n",
    "#gpu_options = tf.GPUOptions(per_process_gpu_memory_fraction=0.333)\n",
    "#sess = tf.Session(config=tf.ConfigProto(gpu_options=gpu_options))\n",
    "\n",
    "#自動增長 GPU 記憶體用量的方式，讓程式需要多少記憶體就拿多少\n",
    "#gpu_options = tf.GPUOptions(allow_growth=True)\n",
    "#sess = tf.Session(config=tf.ConfigProto(gpu_options=gpu_options))\n",
    "\n",
    "history = model.fit(X_train,Y_train,batch_size = batch_size, epochs=epochs, shuffle=True,verbose=2,validation_split=0.3 )\n",
    "\n",
    "#    第六步：輸出\n",
    " \n",
    "print ( \" test set \" )\n",
    "scores = model.evaluate(X_test,Y_test,batch_size=200,verbose= 0)\n",
    "print ( \"\" )\n",
    "#print ( \" The test loss is %f \" % scores)\n",
    "print ( \" The test loss is %f \", scores)\n",
    "result = model.predict(X_test,batch_size=200,verbose= 0)\n",
    "\n",
    "result_max = numpy.argmax(result, axis = 1 )\n",
    "test_max = numpy.argmax(Y_test, axis = 1 )\n",
    "\n",
    "result_bool = numpy.equal(result_max, test_max)\n",
    "true_num = numpy.sum(result_bool)\n",
    "print ( \"\" )\n",
    "print ( \" The accuracy of the model is %f \" % (true_num/len(result_bool)))\n",
    "\n",
    "import matplotlib.pyplot as plt\n",
    "\n",
    "%matplotlib inline\n",
    "\n",
    "# history = model.fit(x, y, validation_split=0.25, epochs=50, batch_size=16, verbose=1)\n",
    "\n",
    "# Plot training & validation accuracy values\n",
    "plt.plot(history.history['acc'])\n",
    "plt.plot(history.history['val_acc'])\n",
    "plt.title('Model accuracy')\n",
    "plt.ylabel('Accuracy')\n",
    "plt.xlabel('Epoch')\n",
    "plt.legend(['Train', 'Test'], loc='upper left')\n",
    "plt.show()\n",
    "\n",
    "# Plot training & validation loss values\n",
    "plt.plot(history.history['loss'])\n",
    "plt.plot(history.history['val_loss'])\n",
    "plt.title('Model loss')\n",
    "plt.ylabel('Loss')\n",
    "plt.xlabel('Epoch')\n",
    "plt.legend(['Train', 'Test'], loc='upper left')\n",
    "plt.show()"
   ]
  },
  {
   "cell_type": "markdown",
   "metadata": {},
   "source": [
    "## Adam執行記錄\n",
    "\n",
    "batch_size = 128, epochs = 10, acc=0.0980\n",
    "\n",
    "batch_size = 128, epochs = 30, acc=0.0986\n",
    "\n",
    "執行時間2s\n",
    "\n",
    "batch_size = 512, epochs = 10, acc=0.0986 \n",
    "\n",
    "batch_size = 512, epochs = 30, acc=0.0986 \n",
    "\n",
    "執行時間1s"
   ]
  },
  {
   "cell_type": "markdown",
   "metadata": {},
   "source": [
    "## SGD"
   ]
  },
  {
   "cell_type": "code",
   "execution_count": 6,
   "metadata": {},
   "outputs": [
    {
     "name": "stdout",
     "output_type": "stream",
     "text": [
      "Train on 42000 samples, validate on 18000 samples\n",
      "Epoch 1/20\n",
      " - 3s - loss: 0.1803 - acc: 0.0986 - val_loss: 0.1802 - val_acc: 0.0989\n",
      "Epoch 2/20\n",
      " - 2s - loss: 0.1803 - acc: 0.0986 - val_loss: 0.1802 - val_acc: 0.0989\n",
      "Epoch 3/20\n",
      " - 2s - loss: 0.1803 - acc: 0.0986 - val_loss: 0.1802 - val_acc: 0.0989\n",
      "Epoch 4/20\n",
      " - 2s - loss: 0.1803 - acc: 0.0986 - val_loss: 0.1802 - val_acc: 0.0989\n",
      "Epoch 5/20\n",
      " - 2s - loss: 0.1803 - acc: 0.0986 - val_loss: 0.1802 - val_acc: 0.0989\n",
      "Epoch 6/20\n",
      " - 2s - loss: 0.1803 - acc: 0.0986 - val_loss: 0.1802 - val_acc: 0.0989\n",
      "Epoch 7/20\n",
      " - 2s - loss: 0.1803 - acc: 0.0986 - val_loss: 0.1802 - val_acc: 0.0989\n",
      "Epoch 8/20\n",
      " - 2s - loss: 0.1803 - acc: 0.0986 - val_loss: 0.1802 - val_acc: 0.0989\n",
      "Epoch 9/20\n",
      " - 2s - loss: 0.1803 - acc: 0.0986 - val_loss: 0.1802 - val_acc: 0.0989\n",
      "Epoch 10/20\n",
      " - 2s - loss: 0.1803 - acc: 0.0986 - val_loss: 0.1802 - val_acc: 0.0989\n",
      "Epoch 11/20\n",
      " - 2s - loss: 0.1803 - acc: 0.0986 - val_loss: 0.1802 - val_acc: 0.0989\n",
      "Epoch 12/20\n",
      " - 2s - loss: 0.1803 - acc: 0.0986 - val_loss: 0.1802 - val_acc: 0.0989\n",
      "Epoch 13/20\n",
      " - 2s - loss: 0.1803 - acc: 0.0986 - val_loss: 0.1802 - val_acc: 0.0989\n",
      "Epoch 14/20\n",
      " - 2s - loss: 0.1803 - acc: 0.0986 - val_loss: 0.1802 - val_acc: 0.0989\n",
      "Epoch 15/20\n",
      " - 2s - loss: 0.1803 - acc: 0.0986 - val_loss: 0.1802 - val_acc: 0.0989\n",
      "Epoch 16/20\n",
      " - 2s - loss: 0.1803 - acc: 0.0986 - val_loss: 0.1802 - val_acc: 0.0989\n",
      "Epoch 17/20\n",
      " - 2s - loss: 0.1803 - acc: 0.0986 - val_loss: 0.1802 - val_acc: 0.0989\n",
      "Epoch 18/20\n",
      " - 2s - loss: 0.1803 - acc: 0.0986 - val_loss: 0.1802 - val_acc: 0.0989\n",
      "Epoch 19/20\n",
      " - 2s - loss: 0.1803 - acc: 0.0986 - val_loss: 0.1802 - val_acc: 0.0989\n",
      "Epoch 20/20\n",
      " - 2s - loss: 0.1803 - acc: 0.0986 - val_loss: 0.1802 - val_acc: 0.0989\n",
      " test set \n",
      "\n",
      " The test loss is %f  [0.1804000034928322, 0.09799999997019768]\n",
      "\n",
      " The accuracy of the model is 0.098000 \n"
     ]
    },
    {
     "data": {
      "image/png": "[encoded data removed]",
      "text/plain": [
       "<Figure size 432x288 with 1 Axes>"
      ]
     },
     "metadata": {
      "needs_background": "light"
     },
     "output_type": "display_data"
    },
    {
     "data": {
      "image/png": "[encoded data removed]",
      "text/plain": [
       "<Figure size 432x288 with 1 Axes>"
      ]
     },
     "metadata": {
      "needs_background": "light"
     },
     "output_type": "display_data"
    }
   ],
   "source": [
    "\n",
    "\n",
    "# 第三步：編譯, Adam\n",
    "opt = optimizers.SGD(lr=0.01, decay=1e-6, momentum=0.9, nesterov=True) \n",
    "\n",
    "model.compile(optimizer = opt, loss = 'mean_squared_error', metrics = ['accuracy'])\n",
    "\n",
    "#  第四步：資料分割\n",
    "# 使用Keras自帶的mnist工具讀取數據（第一次需要聯網）\n",
    "(X_train, y_train), (X_test, y_test) = mnist.load_data() \n",
    "\n",
    "# 由於mist的輸入數據維度是(num, 28 , 28)，這裡需要把後面的維度直接拼起來變成784維   \n",
    "X_train = X_train.reshape(X_train.shape[0], X_train.shape[1] * X_train.shape[2 ])\n",
    "X_test = X_test.reshape(X_test.shape[0], X_test.shape[1] * X_test.shape[2 ])  \n",
    "Y_train = (numpy.arange(10) == y_train[:, None]).astype(int)\n",
    "Y_test = (numpy.arange(10) == y_test[:, None]).astype(int)\n",
    "\n",
    "#宣告並設定\n",
    "batch_size = 64\n",
    "epochs = 20\n",
    "\n",
    "# 第五步：訓練, 修正 model 參數\n",
    "#Blas GEMM launch failed , 避免動態分配GPU / CPU, 出現問題\n",
    "import tensorflow as tf\n",
    "\n",
    "#gpu_options = tf.GPUOptions(per_process_gpu_memory_fraction=0.333)\n",
    "#sess = tf.Session(config=tf.ConfigProto(gpu_options=gpu_options))\n",
    "\n",
    "#自動增長 GPU 記憶體用量的方式，讓程式需要多少記憶體就拿多少\n",
    "gpu_options = tf.GPUOptions(allow_growth=True)\n",
    "sess = tf.Session(config=tf.ConfigProto(gpu_options=gpu_options))\n",
    "\n",
    "history = model.fit(X_train,Y_train,batch_size = batch_size, epochs=epochs, shuffle=True,verbose=2,validation_split=0.3 )\n",
    "\n",
    "#    第六步：輸出\n",
    " \n",
    "print ( \" test set \" )\n",
    "scores = model.evaluate(X_test,Y_test,batch_size=200,verbose= 0)\n",
    "print ( \"\" )\n",
    "#print ( \" The test loss is %f \" % scores)\n",
    "print ( \" The test loss is %f \", scores)\n",
    "result = model.predict(X_test,batch_size=200,verbose= 0)\n",
    "\n",
    "result_max = numpy.argmax(result, axis = 1 )\n",
    "test_max = numpy.argmax(Y_test, axis = 1 )\n",
    "\n",
    "result_bool = numpy.equal(result_max, test_max)\n",
    "true_num = numpy.sum(result_bool)\n",
    "print ( \"\" )\n",
    "print ( \" The accuracy of the model is %f \" % (true_num/len(result_bool)))\n",
    "\n",
    "import matplotlib.pyplot as plt\n",
    "\n",
    "%matplotlib inline\n",
    "\n",
    "# history = model.fit(x, y, validation_split=0.25, epochs=50, batch_size=16, verbose=1)\n",
    "\n",
    "# Plot training & validation accuracy values\n",
    "plt.plot(history.history['acc'])\n",
    "plt.plot(history.history['val_acc'])\n",
    "plt.title('Model accuracy')\n",
    "plt.ylabel('Accuracy')\n",
    "plt.xlabel('Epoch')\n",
    "plt.legend(['Train', 'Test'], loc='upper left')\n",
    "plt.show()\n",
    "\n",
    "# Plot training & validation loss values\n",
    "plt.plot(history.history['loss'])\n",
    "plt.plot(history.history['val_loss'])\n",
    "plt.title('Model loss')\n",
    "plt.ylabel('Loss')\n",
    "plt.xlabel('Epoch')\n",
    "plt.legend(['Train', 'Test'], loc='upper left')\n",
    "plt.show()"
   ]
  },
  {
   "cell_type": "markdown",
   "metadata": {},
   "source": [
    "## RMSprop"
   ]
  },
  {
   "cell_type": "code",
   "execution_count": 20,
   "metadata": {},
   "outputs": [
    {
     "name": "stdout",
     "output_type": "stream",
     "text": [
      "Train on 42000 samples, validate on 18000 samples\n",
      "Epoch 1/20\n",
      " - 3s - loss: 0.1803 - acc: 0.0986 - val_loss: 0.1802 - val_acc: 0.0989\n",
      "Epoch 2/20\n",
      " - 3s - loss: 0.1803 - acc: 0.0986 - val_loss: 0.1802 - val_acc: 0.0989\n",
      "Epoch 3/20\n",
      " - 3s - loss: 0.1803 - acc: 0.0986 - val_loss: 0.1802 - val_acc: 0.0989\n",
      "Epoch 4/20\n",
      " - 3s - loss: 0.1803 - acc: 0.0986 - val_loss: 0.1802 - val_acc: 0.0989\n",
      "Epoch 5/20\n",
      " - 3s - loss: 0.1803 - acc: 0.0986 - val_loss: 0.1802 - val_acc: 0.0989\n",
      "Epoch 6/20\n",
      " - 3s - loss: 0.1803 - acc: 0.0986 - val_loss: 0.1802 - val_acc: 0.0989\n",
      "Epoch 7/20\n",
      " - 3s - loss: 0.1803 - acc: 0.0986 - val_loss: 0.1802 - val_acc: 0.0989\n",
      "Epoch 8/20\n",
      " - 3s - loss: 0.1803 - acc: 0.0986 - val_loss: 0.1802 - val_acc: 0.0989\n",
      "Epoch 9/20\n",
      " - 3s - loss: 0.1803 - acc: 0.0986 - val_loss: 0.1802 - val_acc: 0.0989\n",
      "Epoch 10/20\n",
      " - 3s - loss: 0.1803 - acc: 0.0986 - val_loss: 0.1802 - val_acc: 0.0989\n",
      "Epoch 11/20\n",
      " - 3s - loss: 0.1803 - acc: 0.0986 - val_loss: 0.1802 - val_acc: 0.0989\n",
      "Epoch 12/20\n",
      " - 3s - loss: 0.1803 - acc: 0.0986 - val_loss: 0.1802 - val_acc: 0.0989\n",
      "Epoch 13/20\n",
      " - 3s - loss: 0.1803 - acc: 0.0986 - val_loss: 0.1802 - val_acc: 0.0989\n",
      "Epoch 14/20\n",
      " - 3s - loss: 0.1803 - acc: 0.0986 - val_loss: 0.1802 - val_acc: 0.0989\n",
      "Epoch 15/20\n",
      " - 3s - loss: 0.1803 - acc: 0.0986 - val_loss: 0.1802 - val_acc: 0.0989\n",
      "Epoch 16/20\n",
      " - 3s - loss: 0.1803 - acc: 0.0986 - val_loss: 0.1802 - val_acc: 0.0989\n",
      "Epoch 17/20\n",
      " - 3s - loss: 0.1803 - acc: 0.0986 - val_loss: 0.1802 - val_acc: 0.0989\n",
      "Epoch 18/20\n",
      " - 3s - loss: 0.1803 - acc: 0.0986 - val_loss: 0.1802 - val_acc: 0.0989\n",
      "Epoch 19/20\n",
      " - 3s - loss: 0.1803 - acc: 0.0986 - val_loss: 0.1802 - val_acc: 0.0989\n",
      "Epoch 20/20\n",
      " - 3s - loss: 0.1803 - acc: 0.0986 - val_loss: 0.1802 - val_acc: 0.0989\n",
      " test set \n",
      "\n",
      " The test loss is %f  [0.1804000034928322, 0.09799999997019768]\n",
      "\n",
      " The accuracy of the model is 0.098000 \n"
     ]
    },
    {
     "data": {
      "image/png": "[encoded data removed]",
      "text/plain": [
       "<Figure size 432x288 with 1 Axes>"
      ]
     },
     "metadata": {
      "needs_background": "light"
     },
     "output_type": "display_data"
    },
    {
     "data": {
      "image/png": "[encoded data removed]",
      "text/plain": [
       "<Figure size 432x288 with 1 Axes>"
      ]
     },
     "metadata": {
      "needs_background": "light"
     },
     "output_type": "display_data"
    }
   ],
   "source": [
    "'''\n",
    "RMSprop- Arguments\n",
    "lr: float >= 0. Learning rate.\n",
    "rho: float >= 0.\n",
    "epsilon: float >= 0. Fuzz factor. If None, defaults to K.epsilon().\n",
    "decay: float >= 0. Learning rate decay over each update.\n",
    "'''\n",
    "\n",
    "# 第三步：編譯, \n",
    "opt = optimizers.RMSprop(lr=0.001, epsilon=None, decay=0.0)\n",
    "model.compile(optimizer = opt, loss = 'mean_squared_error', metrics = ['accuracy'])\n",
    "\n",
    "#  第四步：資料分割\n",
    "# 使用Keras自帶的mnist工具讀取數據（第一次需要聯網）\n",
    "(X_train, y_train), (X_test, y_test) = mnist.load_data() \n",
    "\n",
    "# 由於mist的輸入數據維度是(num, 28 , 28)，這裡需要把後面的維度直接拼起來變成784維   \n",
    "X_train = X_train.reshape(X_train.shape[0], X_train.shape[1] * X_train.shape[2 ])\n",
    "X_test = X_test.reshape(X_test.shape[0], X_test.shape[1] * X_test.shape[2 ])  \n",
    "Y_train = (numpy.arange(10) == y_train[:, None]).astype(int)\n",
    "Y_test = (numpy.arange(10) == y_test[:, None]).astype(int)\n",
    "\n",
    "#宣告並設定\n",
    "batch_size = 64\n",
    "epochs = 20\n",
    "\n",
    "# 第五步：訓練, 修正 model 參數\n",
    "#Blas GEMM launch failed , 避免動態分配GPU / CPU, 出現問題\n",
    "import tensorflow as tf\n",
    "\n",
    "#gpu_options = tf.GPUOptions(per_process_gpu_memory_fraction=0.333)\n",
    "#sess = tf.Session(config=tf.ConfigProto(gpu_options=gpu_options))\n",
    "\n",
    "#自動增長 GPU 記憶體用量的方式，讓程式需要多少記憶體就拿多少\n",
    "gpu_options = tf.GPUOptions(allow_growth=True)\n",
    "sess = tf.Session(config=tf.ConfigProto(gpu_options=gpu_options))\n",
    "\n",
    "history = model.fit(X_train,Y_train,batch_size = batch_size, epochs=epochs, shuffle=True,verbose=2,validation_split=0.3 )\n",
    "\n",
    "#    第六步：輸出\n",
    " \n",
    "print ( \" test set \" )\n",
    "scores = model.evaluate(X_test,Y_test,batch_size=200,verbose= 0)\n",
    "print ( \"\" )\n",
    "#print ( \" The test loss is %f \" % scores)\n",
    "print ( \" The test loss is %f \", scores)\n",
    "result = model.predict(X_test,batch_size=200,verbose= 0)\n",
    "\n",
    "result_max = numpy.argmax(result, axis = 1 )\n",
    "test_max = numpy.argmax(Y_test, axis = 1 )\n",
    "\n",
    "result_bool = numpy.equal(result_max, test_max)\n",
    "true_num = numpy.sum(result_bool)\n",
    "print ( \"\" )\n",
    "print ( \" The accuracy of the model is %f \" % (true_num/len(result_bool)))\n",
    "\n",
    "import matplotlib.pyplot as plt\n",
    "\n",
    "%matplotlib inline\n",
    "\n",
    "# history = model.fit(x, y, validation_split=0.25, epochs=50, batch_size=16, verbose=1)\n",
    "\n",
    "# Plot training & validation accuracy values\n",
    "plt.plot(history.history['acc'])\n",
    "plt.plot(history.history['val_acc'])\n",
    "plt.title('Model accuracy')\n",
    "plt.ylabel('Accuracy')\n",
    "plt.xlabel('Epoch')\n",
    "plt.legend(['Train', 'Test'], loc='upper left')\n",
    "plt.show()\n",
    "\n",
    "# Plot training & validation loss values\n",
    "plt.plot(history.history['loss'])\n",
    "plt.plot(history.history['val_loss'])\n",
    "plt.title('Model loss')\n",
    "plt.ylabel('Loss')\n",
    "plt.xlabel('Epoch')\n",
    "plt.legend(['Train', 'Test'], loc='upper left')\n",
    "plt.show()"
   ]
  },
  {
   "cell_type": "code",
   "execution_count": null,
   "metadata": {},
   "outputs": [],
   "source": []
  }
 ],
 "metadata": {
  "kernelspec": {
   "display_name": "Python 3",
   "language": "python",
   "name": "python3"
  },
  "language_info": {
   "codemirror_mode": {
    "name": "ipython",
    "version": 3
   },
   "file_extension": ".py",
   "mimetype": "text/x-python",
   "name": "python",
   "nbconvert_exporter": "python",
   "pygments_lexer": "ipython3",
   "version": "3.7.3"
  }
 },
 "nbformat": 4,
 "nbformat_minor": 2
}
