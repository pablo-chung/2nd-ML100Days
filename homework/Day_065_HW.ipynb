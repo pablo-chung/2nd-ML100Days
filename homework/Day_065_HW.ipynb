{
 "cells": [
  {
   "cell_type": "markdown",
   "metadata": {},
   "source": [
    "# 作業\n",
    "* 選擇分類資料集(右下)-螺旋雙臂 - 交錯六群，限定特徵只能使用前兩個，隱藏層 2 層滿 (共 8 * 2 =16 個神經元)，  \n",
    "  遞迴次數只允許跑到500次，但可以自由調整 批次大小、學習速率、啟動函數、正規化選項與參數\n",
    "* 在上述限制下，挑戰看看測試誤差 (Test Loss) 最低能到多少? 請回答你的上述幾項參數與 Test Loss 數"
   ]
  },
  {
   "cell_type": "markdown",
   "metadata": {
    "collapsed": true
   },
   "source": [
    "批次大小,學習速率,啟動函數,正規化,正規化參數,loss\n",
    "10, 0.01, Tanh, L2 , 0.001, 0.043"
   ]
  },
  {
   "cell_type": "markdown",
   "metadata": {
    "collapsed": true
   },
   "source": [
    "### 過程\n",
    "批次大小,學習速率,啟動函數,正規化,正規化參數,loss\n",
    "1. 30,0.3,ReLU, None,0,0.099\n",
    "2. 16,0.3,ReLU, None,0,0.295\n",
    "3. 10,0.3,ReLU, None,0,0.278\n",
    "4. 3,0.3,ReLU, None,0,0.451\n",
    "\n",
    "5. 3,0.1,ReLU, None,0,0.362\n",
    "6. 3,0.1,Tanh, None,0,0.278\n",
    "7. 3,0.1,Sgmoid, None,0,0.046\n",
    "8. 3,0.1,Linear, None,0,0.485\n",
    "\n",
    "9. 30,0.1,Sgmoid, None,0,0.237\n",
    "10. 30,0.3,Sgmoid, None,0,0.382\n",
    "11. 30,1,Sgmoid, None,0,0.123\n",
    "\n",
    "12. 10, 0.01, Tanh, None , 0, 0.043\n",
    "13. 10, 0.01, Sigmoid, None , 0, 0.5\n",
    "14. 10, 0.01, ReLU, None , 0, 0.132\n",
    "\n",
    "16. 10, 0.01, Tanh, L1 , 0.001, 0.138\n",
    "17. 10, 0.01, Tanh, L1 , 0.003, 0.215\n",
    "18. 10, 0.01, Tanh, L1 , 0.01, 0.5\n",
    "\n",
    "\n",
    "17. 10, 0.01, Tanh, L2 , 0.001, 0.043\n",
    "18. 10, 0.01, Tanh, L2 , 0.003, 0.169\n",
    "19.  10, 0.01, Tanh, L2 , 0, 0.155\n",
    "\n",
    "20. 10, 0.03, Tanh, L2 , 0.001, 0.054\n",
    "21. 10, 0.1, Tanh, L2 , 0.001, 0.067\n",
    "22. 10, 0.3, Tanh, L2 , 0.001, 0.312 不穩定\n"
   ]
  },
  {
   "cell_type": "code",
   "execution_count": null,
   "metadata": {},
   "outputs": [],
   "source": []
  }
 ],
 "metadata": {
  "kernelspec": {
   "display_name": "Python 3",
   "language": "python",
   "name": "python3"
  },
  "language_info": {
   "codemirror_mode": {
    "name": "ipython",
    "version": 3
   },
   "file_extension": ".py",
   "mimetype": "text/x-python",
   "name": "python",
   "nbconvert_exporter": "python",
   "pygments_lexer": "ipython3",
   "version": "3.7.3"
  }
 },
 "nbformat": 4,
 "nbformat_minor": 2
}
