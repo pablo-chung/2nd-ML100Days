{
 "cells": [
  {
   "cell_type": "markdown",
   "metadata": {},
   "source": [
    "## Work\n",
    "1. 請嘗試將 preproc_x 替換成以每筆資料的 min/max 進行標準化至 -1 ~ 1 間，再進行訓練\n",
    "2. 請嘗試將 mlp 疊更深 (e.g 5~10 層)，進行訓練後觀察 learning curve 的走勢\n",
    "3. (optional) 請改用 GPU 進行訓練 (如果你有 GPU 的話)，比較使用 CPU 與 GPU 的訓練速度"
   ]
  },
  {
   "cell_type": "code",
   "execution_count": 1,
   "metadata": {},
   "outputs": [
    {
     "name": "stdout",
     "output_type": "stream",
     "text": [
      "[name: \"/device:CPU:0\"\n",
      "device_type: \"CPU\"\n",
      "memory_limit: 268435456\n",
      "locality {\n",
      "}\n",
      "incarnation: 7629927923722852667\n",
      ", name: \"/device:GPU:0\"\n",
      "device_type: \"GPU\"\n",
      "memory_limit: 4941427507\n",
      "locality {\n",
      "  bus_id: 1\n",
      "  links {\n",
      "  }\n",
      "}\n",
      "incarnation: 9100841607233301989\n",
      "physical_device_desc: \"device: 0, name: GeForce GTX 1060 6GB, pci bus id: 0000:01:00.0, compute capability: 6.1\"\n",
      "]\n"
     ]
    }
   ],
   "source": [
    "## \n",
    "\"\"\"\n",
    "Your code here (optional)\n",
    "確認硬體資源\n",
    "\"\"\"\n",
    "from tensorflow.python.client import device_lib\n",
    "print(device_lib.list_local_devices())\n",
    "\n",
    "import tensorflow as tf\n",
    "\n",
    "#自動增長 GPU 記憶體用量的方式，讓程式需要多少記憶體就拿多少\n",
    "gpu_options = tf.GPUOptions(allow_growth=True)\n",
    "sess = tf.Session(config=tf.ConfigProto(gpu_options=gpu_options))"
   ]
  },
  {
   "cell_type": "code",
   "execution_count": 2,
   "metadata": {},
   "outputs": [
    {
     "name": "stderr",
     "output_type": "stream",
     "text": [
      "Using TensorFlow backend.\n"
     ]
    }
   ],
   "source": [
    "import os\n",
    "import keras\n",
    "\n",
    "# 請嘗試設定 GPU：os.environ\n",
    "os.environ[\"CUDA_VISIBLE_DEVICES\"] = \"0\""
   ]
  },
  {
   "cell_type": "code",
   "execution_count": 3,
   "metadata": {},
   "outputs": [],
   "source": [
    "train, test = keras.datasets.cifar10.load_data()"
   ]
  },
  {
   "cell_type": "code",
   "execution_count": 4,
   "metadata": {},
   "outputs": [],
   "source": [
    "## 資料前處理\n",
    "\"\"\"\n",
    "Your code here\n",
    "\"\"\"\n",
    "def preproc_x(x, flatten=True):\n",
    "    #x = x / 255.\n",
    "    x = x / (x.max()-x.min())\n",
    "    if flatten:\n",
    "        x = x.reshape((len(x), -1))\n",
    "    return x\n",
    "\n",
    "def preproc_y(y, num_classes=10):\n",
    "    if y.shape[-1] == 1:\n",
    "        y = keras.utils.to_categorical(y, num_classes)\n",
    "    return y"
   ]
  },
  {
   "cell_type": "code",
   "execution_count": 5,
   "metadata": {},
   "outputs": [],
   "source": [
    "x_train, y_train = train\n",
    "x_test, y_test = test\n",
    "\n",
    "# Preproc the inputs\n",
    "x_train = preproc_x(x_train)\n",
    "x_test = preproc_x(x_test)\n",
    "\n",
    "# Preprc the outputs\n",
    "y_train = preproc_y(y_train)\n",
    "y_test = preproc_y(y_test)"
   ]
  },
  {
   "cell_type": "code",
   "execution_count": 6,
   "metadata": {},
   "outputs": [
    {
     "name": "stderr",
     "output_type": "stream",
     "text": [
      "WARNING: Logging before flag parsing goes to stderr.\n",
      "W0716 23:16:07.571105  4748 deprecation_wrapper.py:119] From C:\\Users\\pablo\\Anaconda3\\lib\\site-packages\\keras\\backend\\tensorflow_backend.py:74: The name tf.get_default_graph is deprecated. Please use tf.compat.v1.get_default_graph instead.\n",
      "\n",
      "W0716 23:16:07.571105  4748 deprecation_wrapper.py:119] From C:\\Users\\pablo\\Anaconda3\\lib\\site-packages\\keras\\backend\\tensorflow_backend.py:517: The name tf.placeholder is deprecated. Please use tf.compat.v1.placeholder instead.\n",
      "\n",
      "W0716 23:16:07.571105  4748 deprecation_wrapper.py:119] From C:\\Users\\pablo\\Anaconda3\\lib\\site-packages\\keras\\backend\\tensorflow_backend.py:4138: The name tf.random_uniform is deprecated. Please use tf.random.uniform instead.\n",
      "\n"
     ]
    },
    {
     "name": "stdout",
     "output_type": "stream",
     "text": [
      "_________________________________________________________________\n",
      "Layer (type)                 Output Shape              Param #   \n",
      "=================================================================\n",
      "input_1 (InputLayer)         (None, 3072)              0         \n",
      "_________________________________________________________________\n",
      "hidden_layer1 (Dense)        (None, 512)               1573376   \n",
      "_________________________________________________________________\n",
      "hidden_layer2 (Dense)        (None, 256)               131328    \n",
      "_________________________________________________________________\n",
      "hidden_layer3 (Dense)        (None, 128)               32896     \n",
      "_________________________________________________________________\n",
      "hidden_layer4 (Dense)        (None, 64)                8256      \n",
      "_________________________________________________________________\n",
      "hidden_layer5 (Dense)        (None, 32)                2080      \n",
      "_________________________________________________________________\n",
      "output (Dense)               (None, 10)                330       \n",
      "=================================================================\n",
      "Total params: 1,748,266\n",
      "Trainable params: 1,748,266\n",
      "Non-trainable params: 0\n",
      "_________________________________________________________________\n"
     ]
    }
   ],
   "source": [
    "\"\"\"Code Here\n",
    "建立你的神經網路\n",
    "\"\"\"\n",
    "def build_mlp(input_shape, output_units=10, num_neurons=[512, 256, 128, 64, 32]):\n",
    "    input_layer = keras.layers.Input(input_shape)\n",
    "    \n",
    "    for i, n_units in enumerate(num_neurons):\n",
    "        if i == 0:\n",
    "            x = keras.layers.Dense(units=n_units, activation=\"relu\", name=\"hidden_layer\"+str(i+1))(input_layer)\n",
    "        else:\n",
    "            x = keras.layers.Dense(units=n_units, activation=\"relu\", name=\"hidden_layer\"+str(i+1))(x)\n",
    "    \n",
    "    out = keras.layers.Dense(units=output_units, activation=\"softmax\", name=\"output\")(x)\n",
    "    \n",
    "    model = keras.models.Model(inputs=[input_layer], outputs=[out])\n",
    "    return model\n",
    "model = build_mlp(input_shape=x_train.shape[1:])\n",
    "model.summary()"
   ]
  },
  {
   "cell_type": "code",
   "execution_count": 7,
   "metadata": {},
   "outputs": [],
   "source": [
    "## 超參數設定\n",
    "LEARNING_RATE = 0.001\n",
    "EPOCHS = 100\n",
    "BATCH_SIZE = 256"
   ]
  },
  {
   "cell_type": "code",
   "execution_count": 8,
   "metadata": {},
   "outputs": [
    {
     "name": "stderr",
     "output_type": "stream",
     "text": [
      "W0716 23:16:07.667264  4748 deprecation_wrapper.py:119] From C:\\Users\\pablo\\Anaconda3\\lib\\site-packages\\keras\\optimizers.py:790: The name tf.train.Optimizer is deprecated. Please use tf.compat.v1.train.Optimizer instead.\n",
      "\n",
      "W0716 23:16:07.667264  4748 deprecation_wrapper.py:119] From C:\\Users\\pablo\\Anaconda3\\lib\\site-packages\\keras\\backend\\tensorflow_backend.py:3295: The name tf.log is deprecated. Please use tf.math.log instead.\n",
      "\n"
     ]
    }
   ],
   "source": [
    "optimizer = keras.optimizers.Adam(lr=LEARNING_RATE)\n",
    "model.compile(loss=\"categorical_crossentropy\", metrics=[\"accuracy\"], optimizer=optimizer)"
   ]
  },
  {
   "cell_type": "code",
   "execution_count": 9,
   "metadata": {},
   "outputs": [
    {
     "name": "stderr",
     "output_type": "stream",
     "text": [
      "W0716 23:16:07.752008  4748 deprecation.py:323] From C:\\Users\\pablo\\AppData\\Roaming\\Python\\Python37\\site-packages\\tensorflow\\python\\ops\\math_grad.py:1250: add_dispatch_support.<locals>.wrapper (from tensorflow.python.ops.array_ops) is deprecated and will be removed in a future version.\n",
      "Instructions for updating:\n",
      "Use tf.where in 2.0, which has the same broadcast rule as np.where\n",
      "W0716 23:16:07.836661  4748 deprecation_wrapper.py:119] From C:\\Users\\pablo\\Anaconda3\\lib\\site-packages\\keras\\backend\\tensorflow_backend.py:986: The name tf.assign_add is deprecated. Please use tf.compat.v1.assign_add instead.\n",
      "\n"
     ]
    },
    {
     "name": "stdout",
     "output_type": "stream",
     "text": [
      "Train on 50000 samples, validate on 10000 samples\n",
      "Epoch 1/100\n",
      "50000/50000 [==============================] - 3s 70us/step - loss: 1.9644 - acc: 0.2820 - val_loss: 1.8184 - val_acc: 0.3433\n",
      "Epoch 2/100\n",
      "50000/50000 [==============================] - 3s 52us/step - loss: 1.7503 - acc: 0.3721 - val_loss: 1.7152 - val_acc: 0.3976\n",
      "Epoch 3/100\n",
      "50000/50000 [==============================] - 3s 52us/step - loss: 1.6444 - acc: 0.4116 - val_loss: 1.6854 - val_acc: 0.4094\n",
      "Epoch 4/100\n",
      "50000/50000 [==============================] - 3s 52us/step - loss: 1.5713 - acc: 0.4397 - val_loss: 1.6361 - val_acc: 0.4145\n",
      "Epoch 5/100\n",
      "50000/50000 [==============================] - 3s 52us/step - loss: 1.5316 - acc: 0.4544 - val_loss: 1.5166 - val_acc: 0.4560\n",
      "Epoch 6/100\n",
      "50000/50000 [==============================] - 3s 52us/step - loss: 1.4881 - acc: 0.4692 - val_loss: 1.4869 - val_acc: 0.4685\n",
      "Epoch 7/100\n",
      "50000/50000 [==============================] - 3s 52us/step - loss: 1.4453 - acc: 0.4844 - val_loss: 1.4579 - val_acc: 0.4774\n",
      "Epoch 8/100\n",
      "50000/50000 [==============================] - 3s 52us/step - loss: 1.4281 - acc: 0.4889 - val_loss: 1.4456 - val_acc: 0.4936\n",
      "Epoch 9/100\n",
      "50000/50000 [==============================] - 3s 52us/step - loss: 1.4011 - acc: 0.5007 - val_loss: 1.4702 - val_acc: 0.4829\n",
      "Epoch 10/100\n",
      "50000/50000 [==============================] - 3s 52us/step - loss: 1.3673 - acc: 0.5134 - val_loss: 1.4298 - val_acc: 0.4898\n",
      "Epoch 11/100\n",
      "50000/50000 [==============================] - 3s 52us/step - loss: 1.3402 - acc: 0.5204 - val_loss: 1.4063 - val_acc: 0.5021\n",
      "Epoch 12/100\n",
      "50000/50000 [==============================] - 3s 52us/step - loss: 1.3130 - acc: 0.5299 - val_loss: 1.3924 - val_acc: 0.5095\n",
      "Epoch 13/100\n",
      "50000/50000 [==============================] - 3s 52us/step - loss: 1.2948 - acc: 0.5383 - val_loss: 1.3833 - val_acc: 0.5087\n",
      "Epoch 14/100\n",
      "50000/50000 [==============================] - 3s 52us/step - loss: 1.2794 - acc: 0.5422 - val_loss: 1.4707 - val_acc: 0.4842\n",
      "Epoch 15/100\n",
      "50000/50000 [==============================] - 3s 52us/step - loss: 1.2518 - acc: 0.5534 - val_loss: 1.4171 - val_acc: 0.5051\n",
      "Epoch 16/100\n",
      "50000/50000 [==============================] - 3s 52us/step - loss: 1.2281 - acc: 0.5629 - val_loss: 1.3855 - val_acc: 0.5128\n",
      "Epoch 17/100\n",
      "50000/50000 [==============================] - 3s 52us/step - loss: 1.2028 - acc: 0.5707 - val_loss: 1.3958 - val_acc: 0.5111\n",
      "Epoch 18/100\n",
      "50000/50000 [==============================] - 3s 52us/step - loss: 1.1873 - acc: 0.5765 - val_loss: 1.3763 - val_acc: 0.5153\n",
      "Epoch 19/100\n",
      "50000/50000 [==============================] - 3s 52us/step - loss: 1.1723 - acc: 0.5797 - val_loss: 1.3560 - val_acc: 0.5196\n",
      "Epoch 20/100\n",
      "50000/50000 [==============================] - 3s 52us/step - loss: 1.1478 - acc: 0.5903 - val_loss: 1.3943 - val_acc: 0.5118\n",
      "Epoch 21/100\n",
      "50000/50000 [==============================] - 3s 56us/step - loss: 1.1235 - acc: 0.5996 - val_loss: 1.4004 - val_acc: 0.5127\n",
      "Epoch 22/100\n",
      "50000/50000 [==============================] - 3s 53us/step - loss: 1.1139 - acc: 0.6012 - val_loss: 1.3774 - val_acc: 0.5187\n",
      "Epoch 23/100\n",
      "50000/50000 [==============================] - 3s 52us/step - loss: 1.0856 - acc: 0.6122 - val_loss: 1.4149 - val_acc: 0.5058\n",
      "Epoch 24/100\n",
      "50000/50000 [==============================] - 3s 52us/step - loss: 1.0679 - acc: 0.6200 - val_loss: 1.4581 - val_acc: 0.5015\n",
      "Epoch 25/100\n",
      "50000/50000 [==============================] - 3s 52us/step - loss: 1.0543 - acc: 0.6232 - val_loss: 1.3894 - val_acc: 0.5260\n",
      "Epoch 26/100\n",
      "50000/50000 [==============================] - 3s 53us/step - loss: 1.0344 - acc: 0.6274 - val_loss: 1.3748 - val_acc: 0.5299\n",
      "Epoch 27/100\n",
      "50000/50000 [==============================] - 3s 53us/step - loss: 1.0127 - acc: 0.6383 - val_loss: 1.4252 - val_acc: 0.5242\n",
      "Epoch 28/100\n",
      "50000/50000 [==============================] - 3s 52us/step - loss: 1.0021 - acc: 0.6426 - val_loss: 1.3897 - val_acc: 0.5226\n",
      "Epoch 29/100\n",
      "50000/50000 [==============================] - 3s 52us/step - loss: 0.9801 - acc: 0.6506 - val_loss: 1.4490 - val_acc: 0.5105\n",
      "Epoch 30/100\n",
      "50000/50000 [==============================] - 3s 52us/step - loss: 0.9698 - acc: 0.6522 - val_loss: 1.4400 - val_acc: 0.5173\n",
      "Epoch 31/100\n",
      "50000/50000 [==============================] - 3s 52us/step - loss: 0.9423 - acc: 0.6610 - val_loss: 1.4062 - val_acc: 0.5295\n",
      "Epoch 32/100\n",
      "50000/50000 [==============================] - 3s 52us/step - loss: 0.9251 - acc: 0.6666 - val_loss: 1.5054 - val_acc: 0.5133\n",
      "Epoch 33/100\n",
      "50000/50000 [==============================] - 3s 53us/step - loss: 0.9015 - acc: 0.6774 - val_loss: 1.4744 - val_acc: 0.5180\n",
      "Epoch 34/100\n",
      "50000/50000 [==============================] - 3s 53us/step - loss: 0.9125 - acc: 0.6729 - val_loss: 1.5185 - val_acc: 0.5144\n",
      "Epoch 35/100\n",
      "50000/50000 [==============================] - 3s 53us/step - loss: 0.8799 - acc: 0.6847 - val_loss: 1.4355 - val_acc: 0.5313\n",
      "Epoch 36/100\n",
      "50000/50000 [==============================] - 3s 52us/step - loss: 0.8592 - acc: 0.6924 - val_loss: 1.5092 - val_acc: 0.5196\n",
      "Epoch 37/100\n",
      "50000/50000 [==============================] - 3s 52us/step - loss: 0.8523 - acc: 0.6913 - val_loss: 1.5372 - val_acc: 0.5134\n",
      "Epoch 38/100\n",
      "50000/50000 [==============================] - 3s 52us/step - loss: 0.8302 - acc: 0.7024 - val_loss: 1.5003 - val_acc: 0.5235\n",
      "Epoch 39/100\n",
      "50000/50000 [==============================] - 3s 52us/step - loss: 0.8073 - acc: 0.7123 - val_loss: 1.5897 - val_acc: 0.5056\n",
      "Epoch 40/100\n",
      "50000/50000 [==============================] - 3s 52us/step - loss: 0.7956 - acc: 0.7141 - val_loss: 1.5402 - val_acc: 0.5282\n",
      "Epoch 41/100\n",
      "50000/50000 [==============================] - 3s 52us/step - loss: 0.7812 - acc: 0.7198 - val_loss: 1.5863 - val_acc: 0.5200\n",
      "Epoch 42/100\n",
      "50000/50000 [==============================] - 3s 52us/step - loss: 0.7693 - acc: 0.7229 - val_loss: 1.5753 - val_acc: 0.5292\n",
      "Epoch 43/100\n",
      "50000/50000 [==============================] - 3s 53us/step - loss: 0.7665 - acc: 0.7261 - val_loss: 1.5663 - val_acc: 0.5213\n",
      "Epoch 44/100\n",
      "50000/50000 [==============================] - 3s 55us/step - loss: 0.7417 - acc: 0.7335 - val_loss: 1.6378 - val_acc: 0.5172\n",
      "Epoch 45/100\n",
      "50000/50000 [==============================] - 3s 53us/step - loss: 0.7228 - acc: 0.7385 - val_loss: 1.6698 - val_acc: 0.5056\n",
      "Epoch 46/100\n",
      "50000/50000 [==============================] - 3s 53us/step - loss: 0.7171 - acc: 0.7448 - val_loss: 1.6431 - val_acc: 0.5152\n",
      "Epoch 47/100\n",
      "50000/50000 [==============================] - 3s 52us/step - loss: 0.6874 - acc: 0.7522 - val_loss: 1.6829 - val_acc: 0.5159\n",
      "Epoch 48/100\n",
      "50000/50000 [==============================] - 3s 52us/step - loss: 0.6770 - acc: 0.7573 - val_loss: 1.7233 - val_acc: 0.5110\n",
      "Epoch 49/100\n",
      "50000/50000 [==============================] - 3s 52us/step - loss: 0.6780 - acc: 0.7564 - val_loss: 1.7693 - val_acc: 0.5086\n",
      "Epoch 50/100\n",
      "50000/50000 [==============================] - 3s 52us/step - loss: 0.6641 - acc: 0.7620 - val_loss: 1.8573 - val_acc: 0.5055\n",
      "Epoch 51/100\n",
      "50000/50000 [==============================] - 3s 52us/step - loss: 0.6405 - acc: 0.7708 - val_loss: 1.7537 - val_acc: 0.5219\n",
      "Epoch 52/100\n",
      "50000/50000 [==============================] - 3s 52us/step - loss: 0.6455 - acc: 0.7674 - val_loss: 1.8054 - val_acc: 0.5118\n",
      "Epoch 53/100\n",
      "50000/50000 [==============================] - 3s 52us/step - loss: 0.6140 - acc: 0.7794 - val_loss: 1.8493 - val_acc: 0.5190\n",
      "Epoch 54/100\n",
      "50000/50000 [==============================] - 3s 52us/step - loss: 0.5964 - acc: 0.7867 - val_loss: 1.8300 - val_acc: 0.5144\n",
      "Epoch 55/100\n",
      "50000/50000 [==============================] - 3s 52us/step - loss: 0.5995 - acc: 0.7853 - val_loss: 1.8649 - val_acc: 0.5196\n",
      "Epoch 56/100\n",
      "50000/50000 [==============================] - 3s 53us/step - loss: 0.5833 - acc: 0.7917 - val_loss: 1.9044 - val_acc: 0.5105\n",
      "Epoch 57/100\n",
      "50000/50000 [==============================] - 3s 53us/step - loss: 0.5797 - acc: 0.7925 - val_loss: 1.9537 - val_acc: 0.5129\n",
      "Epoch 58/100\n",
      "50000/50000 [==============================] - 3s 53us/step - loss: 0.5617 - acc: 0.8004 - val_loss: 1.9612 - val_acc: 0.5111\n",
      "Epoch 59/100\n"
     ]
    },
    {
     "name": "stdout",
     "output_type": "stream",
     "text": [
      "50000/50000 [==============================] - 3s 52us/step - loss: 0.5538 - acc: 0.8014 - val_loss: 2.0250 - val_acc: 0.5055\n",
      "Epoch 60/100\n",
      "50000/50000 [==============================] - 3s 51us/step - loss: 0.5515 - acc: 0.8021 - val_loss: 2.0549 - val_acc: 0.5115\n",
      "Epoch 61/100\n",
      "50000/50000 [==============================] - 3s 52us/step - loss: 0.5466 - acc: 0.8043 - val_loss: 2.0401 - val_acc: 0.5092\n",
      "Epoch 62/100\n",
      "50000/50000 [==============================] - 3s 57us/step - loss: 0.5338 - acc: 0.8094 - val_loss: 2.0428 - val_acc: 0.5144\n",
      "Epoch 63/100\n",
      "50000/50000 [==============================] - 3s 56us/step - loss: 0.5101 - acc: 0.8180 - val_loss: 2.0896 - val_acc: 0.5037\n",
      "Epoch 64/100\n",
      "50000/50000 [==============================] - 3s 55us/step - loss: 0.5162 - acc: 0.8139 - val_loss: 2.1038 - val_acc: 0.5100ss: 0.5104 - acc: 0.\n",
      "Epoch 65/100\n",
      "50000/50000 [==============================] - 3s 56us/step - loss: 0.5093 - acc: 0.8177 - val_loss: 2.1539 - val_acc: 0.4940\n",
      "Epoch 66/100\n",
      "50000/50000 [==============================] - 3s 58us/step - loss: 0.4957 - acc: 0.8233 - val_loss: 2.2024 - val_acc: 0.5032\n",
      "Epoch 67/100\n",
      "50000/50000 [==============================] - 3s 58us/step - loss: 0.5005 - acc: 0.8207 - val_loss: 2.1598 - val_acc: 0.5041\n",
      "Epoch 68/100\n",
      "50000/50000 [==============================] - 3s 55us/step - loss: 0.4745 - acc: 0.8285 - val_loss: 2.1720 - val_acc: 0.5162\n",
      "Epoch 69/100\n",
      "50000/50000 [==============================] - 3s 55us/step - loss: 0.4541 - acc: 0.8382 - val_loss: 2.2309 - val_acc: 0.5028\n",
      "Epoch 70/100\n",
      "50000/50000 [==============================] - 3s 54us/step - loss: 0.4664 - acc: 0.8330 - val_loss: 2.2765 - val_acc: 0.5107\n",
      "Epoch 71/100\n",
      "50000/50000 [==============================] - 3s 54us/step - loss: 0.4543 - acc: 0.8381 - val_loss: 2.2676 - val_acc: 0.5107\n",
      "Epoch 72/100\n",
      "50000/50000 [==============================] - 3s 54us/step - loss: 0.4307 - acc: 0.8464 - val_loss: 2.3033 - val_acc: 0.5129\n",
      "Epoch 73/100\n",
      "50000/50000 [==============================] - 3s 55us/step - loss: 0.4483 - acc: 0.8393 - val_loss: 2.3324 - val_acc: 0.5021\n",
      "Epoch 74/100\n",
      "50000/50000 [==============================] - 3s 54us/step - loss: 0.4314 - acc: 0.8473 - val_loss: 2.3287 - val_acc: 0.5107\n",
      "Epoch 75/100\n",
      "50000/50000 [==============================] - 3s 55us/step - loss: 0.4217 - acc: 0.8489 - val_loss: 2.4454 - val_acc: 0.5096\n",
      "Epoch 76/100\n",
      "50000/50000 [==============================] - 3s 55us/step - loss: 0.4176 - acc: 0.8502 - val_loss: 2.5495 - val_acc: 0.5097\n",
      "Epoch 77/100\n",
      "50000/50000 [==============================] - 3s 55us/step - loss: 0.4086 - acc: 0.8562 - val_loss: 2.4201 - val_acc: 0.5011\n",
      "Epoch 78/100\n",
      "50000/50000 [==============================] - 3s 54us/step - loss: 0.4006 - acc: 0.8557 - val_loss: 2.5193 - val_acc: 0.5181\n",
      "Epoch 79/100\n",
      "50000/50000 [==============================] - 3s 54us/step - loss: 0.3961 - acc: 0.8588 - val_loss: 2.5504 - val_acc: 0.5083\n",
      "Epoch 80/100\n",
      "50000/50000 [==============================] - 3s 54us/step - loss: 0.4213 - acc: 0.8491 - val_loss: 2.5403 - val_acc: 0.5187\n",
      "Epoch 81/100\n",
      "50000/50000 [==============================] - 3s 54us/step - loss: 0.3950 - acc: 0.8600 - val_loss: 2.5578 - val_acc: 0.5147\n",
      "Epoch 82/100\n",
      "50000/50000 [==============================] - 3s 54us/step - loss: 0.4014 - acc: 0.8559 - val_loss: 2.5420 - val_acc: 0.5077\n",
      "Epoch 83/100\n",
      "50000/50000 [==============================] - 3s 54us/step - loss: 0.3550 - acc: 0.8740 - val_loss: 2.5528 - val_acc: 0.5112\n",
      "Epoch 84/100\n",
      "50000/50000 [==============================] - 3s 54us/step - loss: 0.4051 - acc: 0.8563 - val_loss: 2.6363 - val_acc: 0.4968\n",
      "Epoch 85/100\n",
      "50000/50000 [==============================] - 3s 55us/step - loss: 0.3900 - acc: 0.8608 - val_loss: 2.6383 - val_acc: 0.5043\n",
      "Epoch 86/100\n",
      "50000/50000 [==============================] - 3s 54us/step - loss: 0.3699 - acc: 0.8674 - val_loss: 2.5552 - val_acc: 0.5123\n",
      "Epoch 87/100\n",
      "50000/50000 [==============================] - 3s 55us/step - loss: 0.3630 - acc: 0.8710 - val_loss: 2.6682 - val_acc: 0.5148\n",
      "Epoch 88/100\n",
      "50000/50000 [==============================] - 3s 58us/step - loss: 0.3655 - acc: 0.8701 - val_loss: 2.6630 - val_acc: 0.4980\n",
      "Epoch 89/100\n",
      "50000/50000 [==============================] - 3s 59us/step - loss: 0.3420 - acc: 0.8783 - val_loss: 2.7444 - val_acc: 0.4938\n",
      "Epoch 90/100\n",
      "50000/50000 [==============================] - 3s 56us/step - loss: 0.3435 - acc: 0.8784 - val_loss: 2.8434 - val_acc: 0.4954\n",
      "Epoch 91/100\n",
      "50000/50000 [==============================] - 3s 57us/step - loss: 0.3482 - acc: 0.8752 - val_loss: 2.7189 - val_acc: 0.5081\n",
      "Epoch 92/100\n",
      "50000/50000 [==============================] - 3s 55us/step - loss: 0.3541 - acc: 0.8733 - val_loss: 2.7883 - val_acc: 0.4998\n",
      "Epoch 93/100\n",
      "50000/50000 [==============================] - 3s 55us/step - loss: 0.3247 - acc: 0.8845 - val_loss: 2.8037 - val_acc: 0.5053\n",
      "Epoch 94/100\n",
      "50000/50000 [==============================] - 3s 55us/step - loss: 0.3485 - acc: 0.8743 - val_loss: 2.8627 - val_acc: 0.5012\n",
      "Epoch 95/100\n",
      "50000/50000 [==============================] - 3s 55us/step - loss: 0.3386 - acc: 0.8813 - val_loss: 2.8373 - val_acc: 0.4969\n",
      "Epoch 96/100\n",
      "50000/50000 [==============================] - 3s 55us/step - loss: 0.3405 - acc: 0.8779 - val_loss: 2.7757 - val_acc: 0.5039\n",
      "Epoch 97/100\n",
      "50000/50000 [==============================] - 3s 55us/step - loss: 0.3122 - acc: 0.8884 - val_loss: 2.8646 - val_acc: 0.5042\n",
      "Epoch 98/100\n",
      "50000/50000 [==============================] - 3s 56us/step - loss: 0.3052 - acc: 0.8925 - val_loss: 2.9007 - val_acc: 0.5056\n",
      "Epoch 99/100\n",
      "50000/50000 [==============================] - 3s 56us/step - loss: 0.3183 - acc: 0.8858 - val_loss: 2.9456 - val_acc: 0.5008\n",
      "Epoch 100/100\n",
      "50000/50000 [==============================] - 3s 55us/step - loss: 0.3118 - acc: 0.8904 - val_loss: 2.8951 - val_acc: 0.5127\n"
     ]
    },
    {
     "data": {
      "text/plain": [
       "<keras.callbacks.History at 0x1c0bfa95c88>"
      ]
     },
     "execution_count": 9,
     "metadata": {},
     "output_type": "execute_result"
    }
   ],
   "source": [
    "model.fit(x_train, y_train, \n",
    "          epochs=EPOCHS, \n",
    "          batch_size=BATCH_SIZE, \n",
    "          validation_data=(x_test, y_test), \n",
    "          shuffle=True)"
   ]
  },
  {
   "cell_type": "code",
   "execution_count": 11,
   "metadata": {},
   "outputs": [
    {
     "data": {
      "image/png": "[encoded data removed]",
      "text/plain": [
       "<Figure size 432x288 with 1 Axes>"
      ]
     },
     "metadata": {
      "needs_background": "light"
     },
     "output_type": "display_data"
    },
    {
     "data": {
      "image/png": "[encoded data removed]",
      "text/plain": [
       "<Figure size 432x288 with 1 Axes>"
      ]
     },
     "metadata": {
      "needs_background": "light"
     },
     "output_type": "display_data"
    }
   ],
   "source": [
    "import matplotlib.pyplot as plt\n",
    "\n",
    "\n",
    "train_loss = model.history.history[\"loss\"]\n",
    "valid_loss = model.history.history[\"val_loss\"]\n",
    "\n",
    "train_acc = model.history.history[\"acc\"]\n",
    "valid_acc = model.history.history[\"val_acc\"]\n",
    "\n",
    "plt.plot(range(len(train_loss)), train_loss, label=\"train loss\")\n",
    "plt.plot(range(len(valid_loss)), valid_loss, label=\"valid loss\")\n",
    "plt.legend()\n",
    "plt.title(\"Loss\")\n",
    "plt.show()\n",
    "\n",
    "plt.plot(range(len(train_acc)), train_acc, label=\"train accuracy\")\n",
    "plt.plot(range(len(valid_acc)), valid_acc, label=\"valid accuracy\")\n",
    "plt.legend()\n",
    "plt.title(\"Accuracy\")\n",
    "plt.show()"
   ]
  },
  {
   "cell_type": "code",
   "execution_count": null,
   "metadata": {},
   "outputs": [],
   "source": []
  }
 ],
 "metadata": {
  "kernelspec": {
   "display_name": "Python 3",
   "language": "python",
   "name": "python3"
  },
  "language_info": {
   "codemirror_mode": {
    "name": "ipython",
    "version": 3
   },
   "file_extension": ".py",
   "mimetype": "text/x-python",
   "name": "python",
   "nbconvert_exporter": "python",
   "pygments_lexer": "ipython3",
   "version": "3.7.3"
  }
 },
 "nbformat": 4,
 "nbformat_minor": 2
}
