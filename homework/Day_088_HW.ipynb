{
 "cells": [
  {
   "cell_type": "markdown",
   "metadata": {},
   "source": [
    "## Work\n",
    "1. 請嘗試寫一個 callback 用來記錄各類別在訓練過程中，對驗證集的 True Positive 與 True Negative"
   ]
  },
  {
   "cell_type": "code",
   "execution_count": 1,
   "metadata": {},
   "outputs": [
    {
     "name": "stderr",
     "output_type": "stream",
     "text": [
      "Using TensorFlow backend.\n"
     ]
    }
   ],
   "source": [
    "import os\n",
    "import keras\n",
    "\n",
    "# Disable GPU\n",
    "os.environ[\"CUDA_VISIBLE_DEVICES\"] = \"\"\n",
    "\n",
    "import tensorflow as tf\n",
    "#自動增長 GPU 記憶體用量的方式，讓程式需要多少記憶體就拿多少\n",
    "gpu_options = tf.GPUOptions(allow_growth=True)\n",
    "sess = tf.Session(config=tf.ConfigProto(gpu_options=gpu_options))"
   ]
  },
  {
   "cell_type": "code",
   "execution_count": 2,
   "metadata": {},
   "outputs": [],
   "source": [
    "train, test = keras.datasets.cifar10.load_data()"
   ]
  },
  {
   "cell_type": "code",
   "execution_count": 3,
   "metadata": {},
   "outputs": [],
   "source": [
    "## 資料前處理\n",
    "def preproc_x(x, flatten=True):\n",
    "    x = x / 255.\n",
    "    if flatten:\n",
    "        x = x.reshape((len(x), -1))\n",
    "    return x\n",
    "\n",
    "def preproc_y(y, num_classes=10):\n",
    "    if y.shape[-1] == 1:\n",
    "        y = keras.utils.to_categorical(y, num_classes)\n",
    "    return y    "
   ]
  },
  {
   "cell_type": "code",
   "execution_count": 4,
   "metadata": {},
   "outputs": [],
   "source": [
    "x_train, y_train = train\n",
    "x_test, y_test = test\n",
    "\n",
    "# Preproc the inputs\n",
    "x_train = preproc_x(x_train)\n",
    "x_test = preproc_x(x_test)\n",
    "\n",
    "# Preprc the outputs\n",
    "y_train = preproc_y(y_train)\n",
    "y_test = preproc_y(y_test)"
   ]
  },
  {
   "cell_type": "code",
   "execution_count": 5,
   "metadata": {},
   "outputs": [],
   "source": [
    "from keras.layers import BatchNormalization\n",
    "\n",
    "\"\"\"\n",
    "建立神經網路，並加入 BN layer\n",
    "\"\"\"\n",
    "def build_mlp(input_shape, output_units=10, num_neurons=[512, 256, 128]):\n",
    "    input_layer = keras.layers.Input(input_shape)\n",
    "    \n",
    "    for i, n_units in enumerate(num_neurons):\n",
    "        if i == 0:\n",
    "            x = keras.layers.Dense(units=n_units, \n",
    "                                   activation=\"relu\", \n",
    "                                   name=\"hidden_layer\"+str(i+1))(input_layer)\n",
    "            x = BatchNormalization()(x)\n",
    "        else:\n",
    "            x = keras.layers.Dense(units=n_units, \n",
    "                                   activation=\"relu\", \n",
    "                                   name=\"hidden_layer\"+str(i+1))(x)\n",
    "            x = BatchNormalization()(x)\n",
    "    \n",
    "    out = keras.layers.Dense(units=output_units, activation=\"softmax\", name=\"output\")(x)\n",
    "    \n",
    "    model = keras.models.Model(inputs=[input_layer], outputs=[out])\n",
    "    return model"
   ]
  },
  {
   "cell_type": "code",
   "execution_count": 6,
   "metadata": {},
   "outputs": [],
   "source": [
    "## 超參數設定\n",
    "LEARNING_RATE = 1e-3\n",
    "EPOCHS = 25\n",
    "BATCH_SIZE = 1024\n",
    "MOMENTUM = 0.95"
   ]
  },
  {
   "cell_type": "code",
   "execution_count": 10,
   "metadata": {},
   "outputs": [],
   "source": [
    "# 載入 Callbacks\n",
    "from keras.callbacks import Callback\n",
    "import numpy as np\n",
    "\n",
    "# Record_fp_tp\n",
    "class Record_tp_tn(Callback):\n",
    "    \"\"\"Code Here\n",
    "    撰寫一個紀錄 ture positive 與 true negative 數量的 callbacks    \n",
    "    \"\"\"\n",
    "    def on_train_begin(self, epoch, logs = {}):\n",
    "        logs = logs or {}\n",
    "        record_items = [\"val_auc\", \"true_positives\", \"true_negatives\", \"val_fp\", \"val_fn\", \"val_tp\", \"val_tn\"]\n",
    "        for i in record_items:\n",
    "            if i not in self.params['metrics']:\n",
    "                self.params['metrics'].append(i)\n",
    "    \n",
    "    def on_epoch_end(self, epoch, logs = {}, thres=0.5):\n",
    "        logs = logs or {}\n",
    "        y_true = self.validation_data[1].argmax(axis = 1)\n",
    "        y_pred = self.model.predict(self.validation_data[0])\n",
    "        y_pred = (y_pred[:, 1] >= thres) * 1\n",
    "        true_positives = np.sum(np.logical_and(y_pred == 1, y_true == 1)) #預測是1結果也是1\n",
    "        true_negatives = np.sum(np.logical_and(y_pred == 0, y_true == 0))\n",
    "        logs[\"true_positives\"] = true_positives\n",
    "        logs[\"true_negatives\"] = true_negatives\n",
    "        \n",
    "        \n",
    "\n",
    "rec_tptn = Record_tp_tn()"
   ]
  },
  {
   "cell_type": "code",
   "execution_count": 11,
   "metadata": {
    "scrolled": true
   },
   "outputs": [
    {
     "name": "stdout",
     "output_type": "stream",
     "text": [
      "_________________________________________________________________\n",
      "Layer (type)                 Output Shape              Param #   \n",
      "=================================================================\n",
      "input_3 (InputLayer)         (None, 3072)              0         \n",
      "_________________________________________________________________\n",
      "hidden_layer1 (Dense)        (None, 512)               1573376   \n",
      "_________________________________________________________________\n",
      "batch_normalization_7 (Batch (None, 512)               2048      \n",
      "_________________________________________________________________\n",
      "hidden_layer2 (Dense)        (None, 256)               131328    \n",
      "_________________________________________________________________\n",
      "batch_normalization_8 (Batch (None, 256)               1024      \n",
      "_________________________________________________________________\n",
      "hidden_layer3 (Dense)        (None, 128)               32896     \n",
      "_________________________________________________________________\n",
      "batch_normalization_9 (Batch (None, 128)               512       \n",
      "_________________________________________________________________\n",
      "output (Dense)               (None, 10)                1290      \n",
      "=================================================================\n",
      "Total params: 1,742,474\n",
      "Trainable params: 1,740,682\n",
      "Non-trainable params: 1,792\n",
      "_________________________________________________________________\n",
      "Train on 50000 samples, validate on 10000 samples\n",
      "Epoch 1/25\n",
      "50000/50000 [==============================] - 3s 54us/step - loss: 2.1802 - acc: 0.2748 - val_loss: 2.1107 - val_acc: 0.3090\n",
      "Epoch 2/25\n",
      "50000/50000 [==============================] - 2s 38us/step - loss: 1.7422 - acc: 0.3900 - val_loss: 1.8365 - val_acc: 0.3677\n",
      "Epoch 3/25\n",
      "50000/50000 [==============================] - 2s 39us/step - loss: 1.6182 - acc: 0.4313 - val_loss: 1.7274 - val_acc: 0.3869\n",
      "Epoch 4/25\n",
      "50000/50000 [==============================] - 2s 38us/step - loss: 1.5455 - acc: 0.4581 - val_loss: 1.6306 - val_acc: 0.4249\n",
      "Epoch 5/25\n",
      "50000/50000 [==============================] - 2s 38us/step - loss: 1.4883 - acc: 0.4795 - val_loss: 1.6025 - val_acc: 0.4303\n",
      "Epoch 6/25\n",
      "50000/50000 [==============================] - 2s 39us/step - loss: 1.4432 - acc: 0.4966 - val_loss: 1.5784 - val_acc: 0.4426\n",
      "Epoch 7/25\n",
      "50000/50000 [==============================] - 2s 38us/step - loss: 1.4045 - acc: 0.5089 - val_loss: 1.5503 - val_acc: 0.4519\n",
      "Epoch 8/25\n",
      "50000/50000 [==============================] - 2s 38us/step - loss: 1.3704 - acc: 0.5221 - val_loss: 1.5366 - val_acc: 0.4546\n",
      "Epoch 9/25\n",
      "50000/50000 [==============================] - 2s 38us/step - loss: 1.3376 - acc: 0.5338 - val_loss: 1.5190 - val_acc: 0.4630\n",
      "Epoch 10/25\n",
      "50000/50000 [==============================] - 2s 38us/step - loss: 1.3072 - acc: 0.5426 - val_loss: 1.5119 - val_acc: 0.4640\n",
      "Epoch 11/25\n",
      "50000/50000 [==============================] - 2s 38us/step - loss: 1.2802 - acc: 0.5554 - val_loss: 1.5027 - val_acc: 0.4711\n",
      "Epoch 12/25\n",
      "50000/50000 [==============================] - 2s 38us/step - loss: 1.2529 - acc: 0.5651 - val_loss: 1.4852 - val_acc: 0.4753\n",
      "Epoch 13/25\n",
      "50000/50000 [==============================] - 2s 38us/step - loss: 1.2279 - acc: 0.5747 - val_loss: 1.4908 - val_acc: 0.4727\n",
      "Epoch 14/25\n",
      "50000/50000 [==============================] - 2s 38us/step - loss: 1.2035 - acc: 0.5839 - val_loss: 1.4811 - val_acc: 0.4786\n",
      "Epoch 15/25\n",
      "50000/50000 [==============================] - 2s 38us/step - loss: 1.1776 - acc: 0.5943 - val_loss: 1.4780 - val_acc: 0.4825\n",
      "Epoch 16/25\n",
      "50000/50000 [==============================] - 2s 38us/step - loss: 1.1543 - acc: 0.6026 - val_loss: 1.4757 - val_acc: 0.4823\n",
      "Epoch 17/25\n",
      "50000/50000 [==============================] - 2s 38us/step - loss: 1.1303 - acc: 0.6116 - val_loss: 1.4704 - val_acc: 0.4840\n",
      "Epoch 18/25\n",
      "50000/50000 [==============================] - 2s 38us/step - loss: 1.1104 - acc: 0.6186 - val_loss: 1.4703 - val_acc: 0.4847\n",
      "Epoch 19/25\n",
      "50000/50000 [==============================] - 2s 38us/step - loss: 1.0859 - acc: 0.6304 - val_loss: 1.4638 - val_acc: 0.4886\n",
      "Epoch 20/25\n",
      "50000/50000 [==============================] - 2s 40us/step - loss: 1.0641 - acc: 0.6366 - val_loss: 1.4618 - val_acc: 0.4913\n",
      "Epoch 21/25\n",
      "50000/50000 [==============================] - 2s 38us/step - loss: 1.0430 - acc: 0.6460 - val_loss: 1.4581 - val_acc: 0.4910\n",
      "Epoch 22/25\n",
      "50000/50000 [==============================] - 2s 38us/step - loss: 1.0218 - acc: 0.6530 - val_loss: 1.4778 - val_acc: 0.4832\n",
      "Epoch 23/25\n",
      "50000/50000 [==============================] - 2s 38us/step - loss: 1.0028 - acc: 0.6608 - val_loss: 1.4760 - val_acc: 0.4887\n",
      "Epoch 24/25\n",
      "50000/50000 [==============================] - 2s 38us/step - loss: 0.9795 - acc: 0.6704 - val_loss: 1.4741 - val_acc: 0.4918\n",
      "Epoch 25/25\n",
      "50000/50000 [==============================] - 2s 38us/step - loss: 0.9593 - acc: 0.6768 - val_loss: 1.4809 - val_acc: 0.4899\n"
     ]
    }
   ],
   "source": [
    "model = build_mlp(input_shape=x_train.shape[1:])\n",
    "model.summary()\n",
    "optimizer = keras.optimizers.SGD(lr=LEARNING_RATE, nesterov=True, momentum=MOMENTUM)\n",
    "model.compile(loss=\"categorical_crossentropy\", metrics=[\"accuracy\"], optimizer=optimizer)\n",
    "\n",
    "\"\"\"Code Here\n",
    "將 callbacks 放入模型訓練流程中\n",
    "\"\"\"\n",
    "model.fit(x_train, y_train, \n",
    "          epochs=EPOCHS, \n",
    "          batch_size=BATCH_SIZE, \n",
    "          validation_data=(x_test, y_test), \n",
    "          shuffle=True,\n",
    "          callbacks=[rec_tptn]\n",
    "         )\n",
    "\n",
    "# Collect results\n",
    "train_loss = model.history.history[\"loss\"]\n",
    "valid_loss = model.history.history[\"val_loss\"]\n",
    "train_acc = model.history.history[\"acc\"]\n",
    "valid_acc = model.history.history[\"val_acc\"]\n",
    "\n",
    "\"\"\"Code Here\n",
    "將 tp/tn 從訓練完的模型中取出\n",
    "\"\"\"\n",
    "valid_tp = model.history.history['true_positives']\n",
    "valid_tn = model.history.history['true_negatives']"
   ]
  },
  {
   "cell_type": "code",
   "execution_count": 12,
   "metadata": {},
   "outputs": [
    {
     "data": {
      "image/png": "[encoded data removed]",
      "text/plain": [
       "<Figure size 432x288 with 1 Axes>"
      ]
     },
     "metadata": {
      "needs_background": "light"
     },
     "output_type": "display_data"
    },
    {
     "data": {
      "image/png": "[encoded data removed]",
      "text/plain": [
       "<Figure size 432x288 with 1 Axes>"
      ]
     },
     "metadata": {
      "needs_background": "light"
     },
     "output_type": "display_data"
    },
    {
     "data": {
      "image/png": "[encoded data removed]",
      "text/plain": [
       "<Figure size 432x288 with 1 Axes>"
      ]
     },
     "metadata": {
      "needs_background": "light"
     },
     "output_type": "display_data"
    }
   ],
   "source": [
    "import matplotlib.pyplot as plt\n",
    "%matplotlib inline\n",
    "\n",
    "plt.plot(range(len(train_loss)), train_loss, label=\"train loss\")\n",
    "plt.plot(range(len(valid_loss)), valid_loss, label=\"valid loss\")\n",
    "plt.legend()\n",
    "plt.title(\"Loss\")\n",
    "plt.show()\n",
    "\n",
    "plt.plot(range(len(train_acc)), train_acc, label=\"train accuracy\")\n",
    "plt.plot(range(len(valid_acc)), valid_acc, label=\"valid accuracy\")\n",
    "plt.legend()\n",
    "plt.title(\"Accuracy\")\n",
    "plt.show()\n",
    "\n",
    "plt.plot(range(len(valid_tp)), valid_tp, label=\"valid tp\", color=\"navy\")\n",
    "plt.plot(range(len(valid_tn)), valid_tn, label=\"valid tn\", color=\"red\")\n",
    "plt.legend()\n",
    "plt.title(\"True positives and True Negatives\")\n",
    "plt.show()\n"
   ]
  },
  {
   "cell_type": "code",
   "execution_count": null,
   "metadata": {},
   "outputs": [],
   "source": []
  }
 ],
 "metadata": {
  "kernelspec": {
   "display_name": "Python 3",
   "language": "python",
   "name": "python3"
  },
  "language_info": {
   "codemirror_mode": {
    "name": "ipython",
    "version": 3
   },
   "file_extension": ".py",
   "mimetype": "text/x-python",
   "name": "python",
   "nbconvert_exporter": "python",
   "pygments_lexer": "ipython3",
   "version": "3.7.3"
  }
 },
 "nbformat": 4,
 "nbformat_minor": 2
}
