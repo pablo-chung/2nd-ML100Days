{
 "cells": [
  {
   "cell_type": "markdown",
   "metadata": {},
   "source": [
    "## Work\n",
    "### 請結合前面的知識與程式碼，比較不同的 regularization 的組合對訓練的結果與影響：如 dropout, regularizers, batch-normalization 等"
   ]
  },
  {
   "cell_type": "code",
   "execution_count": 1,
   "metadata": {},
   "outputs": [
    {
     "name": "stderr",
     "output_type": "stream",
     "text": [
      "Using TensorFlow backend.\n"
     ]
    }
   ],
   "source": [
    "import os\n",
    "import keras\n",
    "import itertools\n",
    "# Disable GPU\n",
    "os.environ[\"CUDA_VISIBLE_DEVICES\"] = \"0\"\n",
    "\n",
    "import tensorflow as tf\n",
    "#自動增長 GPU 記憶體用量的方式，讓程式需要多少記憶體就拿多少\n",
    "gpu_options = tf.GPUOptions(allow_growth=True)\n",
    "sess = tf.Session(config=tf.ConfigProto(gpu_options=gpu_options))"
   ]
  },
  {
   "cell_type": "code",
   "execution_count": 2,
   "metadata": {},
   "outputs": [],
   "source": [
    "train, test = keras.datasets.cifar10.load_data()"
   ]
  },
  {
   "cell_type": "code",
   "execution_count": 3,
   "metadata": {},
   "outputs": [],
   "source": [
    "## 資料前處理\n",
    "def preproc_x(x, flatten=True):\n",
    "    x = x / 255.\n",
    "    if flatten:\n",
    "        x = x.reshape((len(x), -1))\n",
    "    return x\n",
    "\n",
    "def preproc_y(y, num_classes=10):\n",
    "    if y.shape[-1] == 1:\n",
    "        y = keras.utils.to_categorical(y, num_classes)\n",
    "    return y    "
   ]
  },
  {
   "cell_type": "code",
   "execution_count": 4,
   "metadata": {},
   "outputs": [],
   "source": [
    "x_train, y_train = train\n",
    "x_test, y_test = test\n",
    "\n",
    "# Preproc the inputs\n",
    "x_train = preproc_x(x_train)\n",
    "x_test = preproc_x(x_test)\n",
    "\n",
    "# Preprc the outputs\n",
    "y_train = preproc_y(y_train)\n",
    "y_test = preproc_y(y_test)"
   ]
  },
  {
   "cell_type": "code",
   "execution_count": 5,
   "metadata": {},
   "outputs": [],
   "source": [
    "from keras.layers import BatchNormalization\n",
    "from keras.regularizers import l1\n",
    "from keras.layers import Dropout\n",
    "\n",
    "\"\"\"\n",
    "建立神經網路，並加入 BN layer\n",
    "\"\"\"\n",
    "def build_mlp(input_shape, output_units=10, num_neurons=[512, 256, 128], BATCH_SIZE=1024):\n",
    "    input_layer = keras.layers.Input(input_shape)\n",
    "        \n",
    "    for i, n_units in enumerate(num_neurons):\n",
    "        if i == 0:\n",
    "            x = keras.layers.Dense(units=n_units, \n",
    "                                   activation=\"relu\", \n",
    "                                   name=\"hidden_layer\"+str(i+1))(input_layer)\n",
    "            x = Dropout(Dropout_ratio)(x)\n",
    "            \n",
    "        else:\n",
    "            x = keras.layers.Dense(units=n_units, \n",
    "                                   activation=\"relu\", \n",
    "                                   name=\"hidden_layer\"+str(i+1))(x)                     \n",
    "            x = Dropout(Dropout_ratio)(x)\n",
    "    \n",
    "    out = keras.layers.Dense(units=output_units, activation=\"softmax\", name=\"output\")(x)\n",
    "    \n",
    "    model = keras.models.Model(inputs=[input_layer], outputs=[out])\n",
    "    return model"
   ]
  },
  {
   "cell_type": "code",
   "execution_count": 6,
   "metadata": {},
   "outputs": [],
   "source": [
    "## 超參數設定\n",
    "LEARNING_RATE = 1e-3\n",
    "EPOCHS = 50\n",
    "BATCH_SIZE = 64\n",
    "MOMENTUM = 0.95\n",
    "L1 = 1e-8\n",
    "Dropout_ratio = 0.2"
   ]
  },
  {
   "cell_type": "code",
   "execution_count": 7,
   "metadata": {
    "scrolled": true
   },
   "outputs": [
    {
     "name": "stderr",
     "output_type": "stream",
     "text": [
      "WARNING: Logging before flag parsing goes to stderr.\n",
      "W0724 21:06:04.402259 18252 deprecation_wrapper.py:119] From C:\\Users\\pablo\\Anaconda3\\lib\\site-packages\\keras\\backend\\tensorflow_backend.py:74: The name tf.get_default_graph is deprecated. Please use tf.compat.v1.get_default_graph instead.\n",
      "\n",
      "W0724 21:06:04.403257 18252 deprecation_wrapper.py:119] From C:\\Users\\pablo\\Anaconda3\\lib\\site-packages\\keras\\backend\\tensorflow_backend.py:517: The name tf.placeholder is deprecated. Please use tf.compat.v1.placeholder instead.\n",
      "\n",
      "W0724 21:06:04.404254 18252 deprecation_wrapper.py:119] From C:\\Users\\pablo\\Anaconda3\\lib\\site-packages\\keras\\backend\\tensorflow_backend.py:4138: The name tf.random_uniform is deprecated. Please use tf.random.uniform instead.\n",
      "\n",
      "W0724 21:06:04.415224 18252 deprecation_wrapper.py:119] From C:\\Users\\pablo\\Anaconda3\\lib\\site-packages\\keras\\backend\\tensorflow_backend.py:133: The name tf.placeholder_with_default is deprecated. Please use tf.compat.v1.placeholder_with_default instead.\n",
      "\n",
      "W0724 21:06:04.420212 18252 deprecation.py:506] From C:\\Users\\pablo\\Anaconda3\\lib\\site-packages\\keras\\backend\\tensorflow_backend.py:3445: calling dropout (from tensorflow.python.ops.nn_ops) with keep_prob is deprecated and will be removed in a future version.\n",
      "Instructions for updating:\n",
      "Please use `rate` instead of `keep_prob`. Rate should be set to `rate = 1 - keep_prob`.\n",
      "W0724 21:06:04.490025 18252 deprecation_wrapper.py:119] From C:\\Users\\pablo\\Anaconda3\\lib\\site-packages\\keras\\optimizers.py:790: The name tf.train.Optimizer is deprecated. Please use tf.compat.v1.train.Optimizer instead.\n",
      "\n",
      "W0724 21:06:04.496010 18252 deprecation_wrapper.py:119] From C:\\Users\\pablo\\Anaconda3\\lib\\site-packages\\keras\\backend\\tensorflow_backend.py:3295: The name tf.log is deprecated. Please use tf.math.log instead.\n",
      "\n",
      "W0724 21:06:04.563661 18252 deprecation.py:323] From C:\\Users\\pablo\\AppData\\Roaming\\Python\\Python37\\site-packages\\tensorflow\\python\\ops\\math_grad.py:1250: add_dispatch_support.<locals>.wrapper (from tensorflow.python.ops.array_ops) is deprecated and will be removed in a future version.\n",
      "Instructions for updating:\n",
      "Use tf.where in 2.0, which has the same broadcast rule as np.where\n"
     ]
    },
    {
     "name": "stdout",
     "output_type": "stream",
     "text": [
      "_________________________________________________________________\n",
      "Layer (type)                 Output Shape              Param #   \n",
      "=================================================================\n",
      "input_1 (InputLayer)         (None, 3072)              0         \n",
      "_________________________________________________________________\n",
      "hidden_layer1 (Dense)        (None, 512)               1573376   \n",
      "_________________________________________________________________\n",
      "dropout_1 (Dropout)          (None, 512)               0         \n",
      "_________________________________________________________________\n",
      "hidden_layer2 (Dense)        (None, 256)               131328    \n",
      "_________________________________________________________________\n",
      "dropout_2 (Dropout)          (None, 256)               0         \n",
      "_________________________________________________________________\n",
      "hidden_layer3 (Dense)        (None, 128)               32896     \n",
      "_________________________________________________________________\n",
      "dropout_3 (Dropout)          (None, 128)               0         \n",
      "_________________________________________________________________\n",
      "output (Dense)               (None, 10)                1290      \n",
      "=================================================================\n",
      "Total params: 1,738,890\n",
      "Trainable params: 1,738,890\n",
      "Non-trainable params: 0\n",
      "_________________________________________________________________\n",
      "Train on 50000 samples, validate on 10000 samples\n",
      "Epoch 1/50\n",
      "50000/50000 [==============================] - 6s 121us/step - loss: 2.0141 - acc: 0.2619 - val_loss: 1.7898 - val_acc: 0.3635\n",
      "Epoch 2/50\n",
      "50000/50000 [==============================] - 6s 111us/step - loss: 1.8155 - acc: 0.3474 - val_loss: 1.6773 - val_acc: 0.4032\n",
      "Epoch 3/50\n",
      "50000/50000 [==============================] - 5s 109us/step - loss: 1.7355 - acc: 0.3782 - val_loss: 1.6170 - val_acc: 0.4269\n",
      "Epoch 4/50\n",
      "50000/50000 [==============================] - 5s 109us/step - loss: 1.6796 - acc: 0.4020 - val_loss: 1.5755 - val_acc: 0.4363\n",
      "Epoch 5/50\n",
      "50000/50000 [==============================] - 6s 110us/step - loss: 1.6413 - acc: 0.4167 - val_loss: 1.5630 - val_acc: 0.4406\n",
      "Epoch 6/50\n",
      "50000/50000 [==============================] - 6s 110us/step - loss: 1.6059 - acc: 0.4299 - val_loss: 1.5194 - val_acc: 0.4649\n",
      "Epoch 7/50\n",
      "50000/50000 [==============================] - 5s 110us/step - loss: 1.5785 - acc: 0.4371 - val_loss: 1.5110 - val_acc: 0.4591\n",
      "Epoch 8/50\n",
      "50000/50000 [==============================] - 5s 108us/step - loss: 1.5561 - acc: 0.4466 - val_loss: 1.4786 - val_acc: 0.4709\n",
      "Epoch 9/50\n",
      "50000/50000 [==============================] - 5s 109us/step - loss: 1.5324 - acc: 0.4554 - val_loss: 1.4637 - val_acc: 0.4749\n",
      "Epoch 10/50\n",
      "50000/50000 [==============================] - 5s 109us/step - loss: 1.5135 - acc: 0.4620 - val_loss: 1.4342 - val_acc: 0.4878\n",
      "Epoch 11/50\n",
      "50000/50000 [==============================] - 6s 116us/step - loss: 1.4992 - acc: 0.4646 - val_loss: 1.4397 - val_acc: 0.4817\n",
      "Epoch 12/50\n",
      "50000/50000 [==============================] - 6s 111us/step - loss: 1.4776 - acc: 0.4729 - val_loss: 1.4152 - val_acc: 0.4904\n",
      "Epoch 13/50\n",
      "50000/50000 [==============================] - 5s 108us/step - loss: 1.4651 - acc: 0.4783 - val_loss: 1.4156 - val_acc: 0.4940\n",
      "Epoch 14/50\n",
      "50000/50000 [==============================] - 5s 109us/step - loss: 1.4499 - acc: 0.4843 - val_loss: 1.4086 - val_acc: 0.4945\n",
      "Epoch 15/50\n",
      "50000/50000 [==============================] - 6s 110us/step - loss: 1.4277 - acc: 0.4912 - val_loss: 1.3929 - val_acc: 0.4996\n",
      "Epoch 16/50\n",
      "50000/50000 [==============================] - 6s 112us/step - loss: 1.4115 - acc: 0.4977 - val_loss: 1.4188 - val_acc: 0.4884\n",
      "Epoch 17/50\n",
      "50000/50000 [==============================] - 6s 112us/step - loss: 1.4014 - acc: 0.4974 - val_loss: 1.3836 - val_acc: 0.5051\n",
      "Epoch 18/50\n",
      "50000/50000 [==============================] - 5s 110us/step - loss: 1.3886 - acc: 0.5035 - val_loss: 1.3610 - val_acc: 0.5117\n",
      "Epoch 19/50\n",
      "50000/50000 [==============================] - 6s 112us/step - loss: 1.3764 - acc: 0.5085 - val_loss: 1.3710 - val_acc: 0.5121\n",
      "Epoch 20/50\n",
      "50000/50000 [==============================] - 6s 113us/step - loss: 1.3576 - acc: 0.5148 - val_loss: 1.3470 - val_acc: 0.5175\n",
      "Epoch 21/50\n",
      "50000/50000 [==============================] - 6s 110us/step - loss: 1.3544 - acc: 0.5159 - val_loss: 1.3406 - val_acc: 0.5212\n",
      "Epoch 22/50\n",
      "50000/50000 [==============================] - 5s 107us/step - loss: 1.3386 - acc: 0.5208 - val_loss: 1.3415 - val_acc: 0.5160\n",
      "Epoch 23/50\n",
      "50000/50000 [==============================] - 5s 104us/step - loss: 1.3341 - acc: 0.5218 - val_loss: 1.3430 - val_acc: 0.5199\n",
      "Epoch 24/50\n",
      "50000/50000 [==============================] - 5s 109us/step - loss: 1.3190 - acc: 0.5294 - val_loss: 1.3560 - val_acc: 0.5197\n",
      "Epoch 25/50\n",
      "50000/50000 [==============================] - 6s 111us/step - loss: 1.3139 - acc: 0.5312 - val_loss: 1.3373 - val_acc: 0.5235\n",
      "Epoch 26/50\n",
      "50000/50000 [==============================] - 6s 113us/step - loss: 1.3021 - acc: 0.5353 - val_loss: 1.3261 - val_acc: 0.5268\n",
      "Epoch 27/50\n",
      "50000/50000 [==============================] - 6s 110us/step - loss: 1.2914 - acc: 0.5369 - val_loss: 1.3253 - val_acc: 0.5300\n",
      "Epoch 28/50\n",
      "50000/50000 [==============================] - 5s 110us/step - loss: 1.2814 - acc: 0.5443 - val_loss: 1.3177 - val_acc: 0.5281\n",
      "Epoch 29/50\n",
      "50000/50000 [==============================] - 5s 110us/step - loss: 1.2715 - acc: 0.5457 - val_loss: 1.3106 - val_acc: 0.5276\n",
      "Epoch 30/50\n",
      "50000/50000 [==============================] - 5s 109us/step - loss: 1.2686 - acc: 0.5442 - val_loss: 1.3258 - val_acc: 0.5253\n",
      "Epoch 31/50\n",
      "50000/50000 [==============================] - 5s 110us/step - loss: 1.2591 - acc: 0.5483 - val_loss: 1.3167 - val_acc: 0.5279\n",
      "Epoch 32/50\n",
      "50000/50000 [==============================] - 6s 112us/step - loss: 1.2498 - acc: 0.5541 - val_loss: 1.2993 - val_acc: 0.5337\n",
      "Epoch 33/50\n",
      "50000/50000 [==============================] - 6s 112us/step - loss: 1.2358 - acc: 0.5578 - val_loss: 1.3210 - val_acc: 0.5209\n",
      "Epoch 34/50\n",
      "50000/50000 [==============================] - 5s 110us/step - loss: 1.2277 - acc: 0.5603 - val_loss: 1.2937 - val_acc: 0.5384\n",
      "Epoch 35/50\n",
      "50000/50000 [==============================] - 6s 110us/step - loss: 1.2174 - acc: 0.5625 - val_loss: 1.2877 - val_acc: 0.5387\n",
      "Epoch 36/50\n",
      "50000/50000 [==============================] - 6s 111us/step - loss: 1.2155 - acc: 0.5665 - val_loss: 1.2996 - val_acc: 0.5398\n",
      "Epoch 37/50\n",
      "50000/50000 [==============================] - 5s 110us/step - loss: 1.2038 - acc: 0.5677 - val_loss: 1.2923 - val_acc: 0.5395\n",
      "Epoch 38/50\n",
      "50000/50000 [==============================] - 5s 110us/step - loss: 1.1985 - acc: 0.5716 - val_loss: 1.2827 - val_acc: 0.5413\n",
      "Epoch 39/50\n",
      "50000/50000 [==============================] - 6s 111us/step - loss: 1.1900 - acc: 0.5750 - val_loss: 1.2913 - val_acc: 0.5371\n",
      "Epoch 40/50\n",
      "50000/50000 [==============================] - 6s 110us/step - loss: 1.1788 - acc: 0.5810 - val_loss: 1.2760 - val_acc: 0.5420\n",
      "Epoch 41/50\n",
      "50000/50000 [==============================] - 6s 110us/step - loss: 1.1770 - acc: 0.5761 - val_loss: 1.2663 - val_acc: 0.5439\n",
      "Epoch 42/50\n",
      "50000/50000 [==============================] - 6s 111us/step - loss: 1.1662 - acc: 0.5802 - val_loss: 1.2711 - val_acc: 0.5434\n",
      "Epoch 43/50\n",
      "50000/50000 [==============================] - 6s 115us/step - loss: 1.1615 - acc: 0.5846 - val_loss: 1.2839 - val_acc: 0.5488\n",
      "Epoch 44/50\n",
      "50000/50000 [==============================] - 5s 109us/step - loss: 1.1579 - acc: 0.5841 - val_loss: 1.2847 - val_acc: 0.5427\n",
      "Epoch 45/50\n",
      "50000/50000 [==============================] - 5s 109us/step - loss: 1.1471 - acc: 0.5881 - val_loss: 1.2765 - val_acc: 0.5450\n",
      "Epoch 46/50\n",
      "50000/50000 [==============================] - 5s 110us/step - loss: 1.1387 - acc: 0.5940 - val_loss: 1.2938 - val_acc: 0.5426\n",
      "Epoch 47/50\n",
      "50000/50000 [==============================] - 6s 110us/step - loss: 1.1314 - acc: 0.5935 - val_loss: 1.2840 - val_acc: 0.5397\n",
      "Epoch 48/50\n",
      "50000/50000 [==============================] - 5s 109us/step - loss: 1.1179 - acc: 0.5983 - val_loss: 1.2636 - val_acc: 0.5530\n",
      "Epoch 49/50\n"
     ]
    },
    {
     "name": "stdout",
     "output_type": "stream",
     "text": [
      "50000/50000 [==============================] - 6s 110us/step - loss: 1.1138 - acc: 0.6014 - val_loss: 1.2689 - val_acc: 0.5451\n",
      "Epoch 50/50\n",
      "50000/50000 [==============================] - 5s 110us/step - loss: 1.1086 - acc: 0.6040 - val_loss: 1.2780 - val_acc: 0.5452\n"
     ]
    }
   ],
   "source": [
    "model = build_mlp(input_shape=x_train.shape[1:])\n",
    "model.summary()\n",
    "optimizer = keras.optimizers.SGD(lr=LEARNING_RATE, nesterov=True, momentum=MOMENTUM)\n",
    "model.compile(loss=\"categorical_crossentropy\", metrics=[\"accuracy\"], optimizer=optimizer)\n",
    "\n",
    "model.fit(x_train, y_train, \n",
    "          epochs=EPOCHS, \n",
    "          batch_size=BATCH_SIZE, \n",
    "          validation_data=(x_test, y_test), \n",
    "          shuffle=True)\n",
    "\n",
    "# Collect results\n",
    "train_loss = model.history.history[\"loss\"]\n",
    "valid_loss = model.history.history[\"val_loss\"]\n",
    "train_acc = model.history.history[\"acc\"]\n",
    "valid_acc = model.history.history[\"val_acc\"]"
   ]
  },
  {
   "cell_type": "code",
   "execution_count": 8,
   "metadata": {},
   "outputs": [
    {
     "data": {
      "image/png": "[encoded data removed]",
      "text/plain": [
       "<Figure size 432x288 with 1 Axes>"
      ]
     },
     "metadata": {
      "needs_background": "light"
     },
     "output_type": "display_data"
    },
    {
     "data": {
      "image/png": "[encoded data removed]",
      "text/plain": [
       "<Figure size 432x288 with 1 Axes>"
      ]
     },
     "metadata": {
      "needs_background": "light"
     },
     "output_type": "display_data"
    }
   ],
   "source": [
    "import matplotlib.pyplot as plt\n",
    "%matplotlib inline\n",
    "\n",
    "plt.plot(range(len(train_loss)), train_loss, label=\"train loss\")\n",
    "plt.plot(range(len(valid_loss)), valid_loss, label=\"valid loss\")\n",
    "plt.legend()\n",
    "plt.title(\"Loss\")\n",
    "plt.show()\n",
    "\n",
    "plt.plot(range(len(train_acc)), train_acc, label=\"train accuracy\")\n",
    "plt.plot(range(len(valid_acc)), valid_acc, label=\"valid accuracy\")\n",
    "plt.legend()\n",
    "plt.title(\"Accuracy\")\n",
    "plt.show()"
   ]
  },
  {
   "cell_type": "code",
   "execution_count": null,
   "metadata": {},
   "outputs": [],
   "source": []
  }
 ],
 "metadata": {
  "kernelspec": {
   "display_name": "Python 3",
   "language": "python",
   "name": "python3"
  },
  "language_info": {
   "codemirror_mode": {
    "name": "ipython",
    "version": 3
   },
   "file_extension": ".py",
   "mimetype": "text/x-python",
   "name": "python",
   "nbconvert_exporter": "python",
   "pygments_lexer": "ipython3",
   "version": "3.7.3"
  }
 },
 "nbformat": 4,
 "nbformat_minor": 2
}
