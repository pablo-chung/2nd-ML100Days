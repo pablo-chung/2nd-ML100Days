{
 "cells": [
  {
   "cell_type": "markdown",
   "metadata": {},
   "source": [
    "## 練習時間\n",
    "在小量的資料上，我們用眼睛就可以看得出來程式碼是否有跑出我們理想中的結果\n",
    "\n",
    "請嘗試想像一個你需要的資料結構 (裡面的值可以是隨機的)，然後用上述的方法把它變成 pandas DataFrame\n",
    "\n",
    "#### Ex: 想像一個 dataframe 有兩個欄位，一個是國家，一個是人口，求人口數最多的國家\n",
    "\n",
    "### Hints: [隨機產生數值](https://blog.csdn.net/christianashannon/article/details/78867204)"
   ]
  },
  {
   "cell_type": "code",
   "execution_count": 2,
   "metadata": {},
   "outputs": [],
   "source": [
    "import pandas as pd\n",
    "import numpy as np"
   ]
  },
  {
   "cell_type": "code",
   "execution_count": 14,
   "metadata": {},
   "outputs": [
    {
     "name": "stdout",
     "output_type": "stream",
     "text": [
      "[148432 117512 189001]\n",
      "{'City': ['Austin', 'Dallas', 'Austin', 'Dallas'], 'Census': array([24304507, 24959488, 19663077, 17105242])}\n",
      "     City    Census\n",
      "0  Austin  24304507\n",
      "1  Dallas  24959488\n",
      "2  Austin  19663077\n",
      "3  Dallas  17105242\n"
     ]
    }
   ],
   "source": [
    "#建立list\n",
    "cities = ['Austin', 'Dallas', 'Austin', 'Dallas']\n",
    "census=np.random.randint(10000000,30000000,4)\n",
    "#print(data1)\n",
    "\n",
    "\n",
    "#用list組成dict\n",
    "dict = {\"City\": cities,  \n",
    "        \"Census\": census\n",
    "       }\n",
    "#print(dict)\n",
    "\n",
    "#用dict建立dataframe\n",
    "census_data = pd.DataFrame(dict)\n",
    "print(census_data)"
   ]
  },
  {
   "cell_type": "code",
   "execution_count": null,
   "metadata": {
    "collapsed": true
   },
   "outputs": [],
   "source": []
  }
 ],
 "metadata": {
  "kernelspec": {
   "display_name": "Python 3",
   "language": "python",
   "name": "python3"
  },
  "language_info": {
   "codemirror_mode": {
    "name": "ipython",
    "version": 3
   },
   "file_extension": ".py",
   "mimetype": "text/x-python",
   "name": "python",
   "nbconvert_exporter": "python",
   "pygments_lexer": "ipython3",
   "version": "3.7.3"
  }
 },
 "nbformat": 4,
 "nbformat_minor": 2
}
